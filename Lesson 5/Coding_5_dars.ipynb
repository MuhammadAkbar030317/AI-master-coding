{
 "cells": [
  {
   "cell_type": "markdown",
   "id": "5ebfc5ec",
   "metadata": {
    "vscode": {
     "languageId": "plaintext"
    }
   },
   "source": [
    "# Vazifa (5-dars)"
   ]
  },
  {
   "cell_type": "code",
   "execution_count": 2,
   "id": "21bb1220",
   "metadata": {},
   "outputs": [],
   "source": [
    "import pandas as pd"
   ]
  },
  {
   "cell_type": "code",
   "execution_count": 3,
   "id": "357cc904",
   "metadata": {},
   "outputs": [],
   "source": [
    "df=pd.read_csv(\"electric_vehicles_spec_2025.csv.csv\")"
   ]
  },
  {
   "cell_type": "code",
   "execution_count": 4,
   "id": "d53c5918",
   "metadata": {},
   "outputs": [
    {
     "name": "stdout",
     "output_type": "stream",
     "text": [
      "<class 'pandas.core.frame.DataFrame'>\n",
      "RangeIndex: 478 entries, 0 to 477\n",
      "Data columns (total 22 columns):\n",
      " #   Column                     Non-Null Count  Dtype  \n",
      "---  ------                     --------------  -----  \n",
      " 0   brand                      478 non-null    object \n",
      " 1   model                      477 non-null    object \n",
      " 2   top_speed_kmh              478 non-null    int64  \n",
      " 3   battery_capacity_kWh       478 non-null    float64\n",
      " 4   battery_type               478 non-null    object \n",
      " 5   number_of_cells            276 non-null    float64\n",
      " 6   torque_nm                  471 non-null    float64\n",
      " 7   efficiency_wh_per_km       478 non-null    int64  \n",
      " 8   range_km                   478 non-null    int64  \n",
      " 9   acceleration_0_100_s       478 non-null    float64\n",
      " 10  fast_charging_power_kw_dc  477 non-null    float64\n",
      " 11  fast_charge_port           477 non-null    object \n",
      " 12  towing_capacity_kg         452 non-null    float64\n",
      " 13  cargo_volume_l             477 non-null    object \n",
      " 14  seats                      478 non-null    int64  \n",
      " 15  drivetrain                 478 non-null    object \n",
      " 16  segment                    478 non-null    object \n",
      " 17  length_mm                  478 non-null    int64  \n",
      " 18  width_mm                   478 non-null    int64  \n",
      " 19  height_mm                  478 non-null    int64  \n",
      " 20  car_body_type              478 non-null    object \n",
      " 21  source_url                 478 non-null    object \n",
      "dtypes: float64(6), int64(7), object(9)\n",
      "memory usage: 82.3+ KB\n"
     ]
    }
   ],
   "source": [
    "df.info()"
   ]
  },
  {
   "cell_type": "code",
   "execution_count": 11,
   "id": "e55e604c",
   "metadata": {},
   "outputs": [
    {
     "data": {
      "text/plain": [
       "brand                          0\n",
       "model                          1\n",
       "top_speed_kmh                  0\n",
       "battery_capacity_kWh           0\n",
       "battery_type                   0\n",
       "number_of_cells              202\n",
       "torque_nm                      7\n",
       "efficiency_wh_per_km           0\n",
       "range_km                       0\n",
       "acceleration_0_100_s           0\n",
       "fast_charging_power_kw_dc      1\n",
       "fast_charge_port               1\n",
       "towing_capacity_kg            26\n",
       "cargo_volume_l                 1\n",
       "seats                          0\n",
       "drivetrain                     0\n",
       "segment                        0\n",
       "length_mm                      0\n",
       "width_mm                       0\n",
       "height_mm                      0\n",
       "car_body_type                  0\n",
       "source_url                     0\n",
       "dtype: int64"
      ]
     },
     "execution_count": 11,
     "metadata": {},
     "output_type": "execute_result"
    }
   ],
   "source": [
    "df.isnull().sum()"
   ]
  },
  {
   "cell_type": "markdown",
   "id": "7833f79a",
   "metadata": {},
   "source": [
    "### mean()"
   ]
  },
  {
   "cell_type": "code",
   "execution_count": null,
   "id": "3049178b",
   "metadata": {},
   "outputs": [],
   "source": [
    "df[\"number_of_cells\"].fillna(df[\"number_of_cells\"].mean(), inplace=True)"
   ]
  },
  {
   "cell_type": "markdown",
   "id": "2dc53450",
   "metadata": {},
   "source": [
    "### mode()"
   ]
  },
  {
   "cell_type": "code",
   "execution_count": 13,
   "id": "e5ce0ead",
   "metadata": {},
   "outputs": [],
   "source": [
    "df[\"fast_charge_port\"].fillna(df[\"fast_charge_port\"].mode()[0],inplace=True)"
   ]
  },
  {
   "cell_type": "markdown",
   "id": "7c7b5964",
   "metadata": {},
   "source": [
    "### median()"
   ]
  },
  {
   "cell_type": "code",
   "execution_count": null,
   "id": "a0dc5c7b",
   "metadata": {},
   "outputs": [],
   "source": [
    "df[\"towing_capacity_kg\"].fillna(df[\"towing_capacity_kg\"].median(), inplace=True)"
   ]
  },
  {
   "cell_type": "markdown",
   "id": "6a343f67",
   "metadata": {},
   "source": [
    "### fixed"
   ]
  },
  {
   "cell_type": "code",
   "execution_count": null,
   "id": "2f3cbbf5",
   "metadata": {},
   "outputs": [],
   "source": [
    "df[\"torque_nm\"].fillna(7.0, inplace=True)     #     fixed qiymat yani mana shu ustundagi hamma bo'sh katak yani qiymati yo'q kataklarga \n",
    "                                              #     dasturchi tomonidan yozilgan raqam yoki qiymatni qo'yib chiqadi"
   ]
  },
  {
   "cell_type": "markdown",
   "id": "e13fb823",
   "metadata": {},
   "source": [
    "### drop"
   ]
  },
  {
   "cell_type": "code",
   "execution_count": null,
   "id": "507656da",
   "metadata": {},
   "outputs": [],
   "source": [
    "df.drop(\"number_of_cells\", axis=1, inplace=True)  # tanlangan ustunni tashlab yuboraadi"
   ]
  },
  {
   "cell_type": "code",
   "execution_count": null,
   "id": "60e6c07f",
   "metadata": {},
   "outputs": [],
   "source": [
    "df.info()"
   ]
  },
  {
   "cell_type": "code",
   "execution_count": null,
   "id": "ada15f2b",
   "metadata": {},
   "outputs": [],
   "source": [
    "df.dropna(inplace=True)  # qatorda bitta tushib qolgan qiymat bo'lsa ham o'sha qatorni tashlab yuboradi"
   ]
  },
  {
   "cell_type": "code",
   "execution_count": 7,
   "id": "6eaab6dc",
   "metadata": {},
   "outputs": [
    {
     "name": "stdout",
     "output_type": "stream",
     "text": [
      "<class 'pandas.core.frame.DataFrame'>\n",
      "Index: 442 entries, 0 to 476\n",
      "Data columns (total 21 columns):\n",
      " #   Column                     Non-Null Count  Dtype  \n",
      "---  ------                     --------------  -----  \n",
      " 0   brand                      442 non-null    object \n",
      " 1   model                      442 non-null    object \n",
      " 2   top_speed_kmh              442 non-null    int64  \n",
      " 3   battery_capacity_kWh       442 non-null    float64\n",
      " 4   battery_type               442 non-null    object \n",
      " 5   torque_nm                  442 non-null    float64\n",
      " 6   efficiency_wh_per_km       442 non-null    int64  \n",
      " 7   range_km                   442 non-null    int64  \n",
      " 8   acceleration_0_100_s       442 non-null    float64\n",
      " 9   fast_charging_power_kw_dc  442 non-null    float64\n",
      " 10  fast_charge_port           442 non-null    object \n",
      " 11  towing_capacity_kg         442 non-null    float64\n",
      " 12  cargo_volume_l             442 non-null    object \n",
      " 13  seats                      442 non-null    int64  \n",
      " 14  drivetrain                 442 non-null    object \n",
      " 15  segment                    442 non-null    object \n",
      " 16  length_mm                  442 non-null    int64  \n",
      " 17  width_mm                   442 non-null    int64  \n",
      " 18  height_mm                  442 non-null    int64  \n",
      " 19  car_body_type              442 non-null    object \n",
      " 20  source_url                 442 non-null    object \n",
      "dtypes: float64(5), int64(7), object(9)\n",
      "memory usage: 76.0+ KB\n"
     ]
    }
   ],
   "source": [
    "df.info()"
   ]
  },
  {
   "cell_type": "code",
   "execution_count": null,
   "id": "11c7a2ce",
   "metadata": {},
   "outputs": [],
   "source": []
  }
 ],
 "metadata": {
  "kernelspec": {
   "display_name": "dars_7",
   "language": "python",
   "name": "python3"
  },
  "language_info": {
   "codemirror_mode": {
    "name": "ipython",
    "version": 3
   },
   "file_extension": ".py",
   "mimetype": "text/x-python",
   "name": "python",
   "nbconvert_exporter": "python",
   "pygments_lexer": "ipython3",
   "version": "3.10.17"
  }
 },
 "nbformat": 4,
 "nbformat_minor": 5
}
