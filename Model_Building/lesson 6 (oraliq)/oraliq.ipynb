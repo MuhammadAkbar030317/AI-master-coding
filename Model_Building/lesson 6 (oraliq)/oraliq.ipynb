{
 "cells": [
  {
   "cell_type": "code",
   "execution_count": 19,
   "id": "8f200d58",
   "metadata": {},
   "outputs": [
    {
     "name": "stderr",
     "output_type": "stream",
     "text": [
      "C:\\Users\\User\\AppData\\Local\\Temp\\ipykernel_17908\\889803151.py:4: DtypeWarning: Columns (5,9,11,12,13) have mixed types. Specify dtype option on import or set low_memory=False.\n",
      "  df=pd.read_csv(\"bank-full.csv\")\n"
     ]
    }
   ],
   "source": [
    "import pandas as pd\n",
    "from sklearn.preprocessing import LabelEncoder, StandardScaler\n",
    "from sklearn.model_selection import train_test_split\n",
    "df=pd.read_csv(\"bank-full.csv\")"
   ]
  },
  {
   "cell_type": "code",
   "execution_count": null,
   "id": "db92b0d6",
   "metadata": {},
   "outputs": [],
   "source": [
    "def toldirish():\n",
    "    for col in df.columns:\n",
    "        if df[col].isnull().any():\n",
    "            if df[col].dtype==\"object\":\n",
    "                df[col].fillna(df[col].mode()[0])"
   ]
  },
  {
   "cell_type": "markdown",
   "id": "1f6fe724",
   "metadata": {},
   "source": [
    "## Og'zaki"
   ]
  },
  {
   "cell_type": "markdown",
   "id": "94990aa2",
   "metadata": {},
   "source": [
    "## 1.Model Evalution nima? \n",
    "## Bu modelni yaxshi ishlayabdimi yo'qmi aniqlaydi, qayerda xato borligini aniqab tuzatadi,\n",
    "## bir nechta modellarni solishtiradi"
   ]
  },
  {
   "cell_type": "markdown",
   "id": "ae8e66d8",
   "metadata": {},
   "source": [
    "## 2. Decision Tree qanday ishlaydi? Over/Underfittingni DT da qanday oldini olsak bo’ladi?\n",
    "## bunda outputni topishda savol-javob orqali turli yo'nalishlarga ajratib har bir yo'nalishda bitta feature bo'yicha qaror qiladi.\n",
    "## bitta ustun tanlanadi shu ustun yana bo'linadi huddi shunday yakuniy qarorgachya keladi. \n",
    "## overfitting bu model trening malumotlarini yodlab oladi keyin testda yaxshi natija bermaslikdir. \n",
    "## buni oldini oliush uchn Max_depth chuqurligini cheklayi, Min_simples_split yana bo'layotganda kam qismga bo'lish,\n",
    "## Pruning-ortiqcha node larni tashlab yuboradi, cross-validation bu validation qilish orqali chuqurlikni cheklaydi\n",
    "# \n",
    "## Underfitting bu model hech naranni o'rganmasligi. bunda decision tree judas sayoz bo'ladi, muhim feature lar natog'ri olingan bo'lishi mumkin\n",
    "## bunda max_depth va min_samples_split ni kopaytirish kerak bo'ladi "
   ]
  },
  {
   "cell_type": "markdown",
   "id": "9c461cbb",
   "metadata": {},
   "source": [
    "## 3. Linear Modellar qanday ishlaydi? >> linear regression va linear classification\n",
    "## bunda input va output orasida chiziqli bog'liqlik bor deb o'ylaydi. x-input, y-output, w-weight, b-bais x,y data beriladi va eng mos w, b ni topishga hareakat qiladi bunda MSE,MAE, R2_score,RMSE lar orqali hisoblanadi.\n",
    "## linear classification buda natija clssification bo'ladi"
   ]
  },
  {
   "cell_type": "markdown",
   "id": "b509a6e3",
   "metadata": {},
   "source": [
    "## 4.Logistic Regressionda qanday funksiyadan foydalanamiz?\n"
   ]
  },
  {
   "cell_type": "markdown",
   "id": "bd85946e",
   "metadata": {},
   "source": [
    "# Python"
   ]
  },
  {
   "cell_type": "markdown",
   "id": "03ec7884",
   "metadata": {},
   "source": [
    "## 1. Berilgan so’zni boshi va oxirdagi so’zlardan so’z tuzadigan funksiya yarating"
   ]
  },
  {
   "cell_type": "code",
   "execution_count": 3,
   "id": "172955e1",
   "metadata": {},
   "outputs": [
    {
     "data": {
      "text/plain": [
       "'Sand'"
      ]
     },
     "execution_count": 3,
     "metadata": {},
     "output_type": "execute_result"
    }
   ],
   "source": [
    "def soz(text):\n",
    "    return text[0:2]+text[-2:]\n",
    "soz(text=\"Samarqand\")"
   ]
  },
  {
   "cell_type": "markdown",
   "id": "7ea12c3f",
   "metadata": {},
   "source": [
    "## 2.Berilgan listdagi sonlar o’rta arifmetigini topadigan funskiya yarating"
   ]
  },
  {
   "cell_type": "code",
   "execution_count": 5,
   "id": "614334aa",
   "metadata": {},
   "outputs": [
    {
     "data": {
      "text/plain": [
       "14.285714285714286"
      ]
     },
     "execution_count": 5,
     "metadata": {},
     "output_type": "execute_result"
    }
   ],
   "source": [
    "def orta_arifmetik(sonlar):\n",
    "    return sum(sonlar)/len(sonlar)\n",
    "orta_arifmetik(sonlar=[1, 3, 6, 9, 4, 32, 45])"
   ]
  },
  {
   "cell_type": "markdown",
   "id": "c8b75356",
   "metadata": {},
   "source": [
    "## 3. Berilgan so’zni uzunligini topadigan funksiya yarating "
   ]
  },
  {
   "cell_type": "code",
   "execution_count": 6,
   "id": "97799de7",
   "metadata": {},
   "outputs": [
    {
     "data": {
      "text/plain": [
       "5"
      ]
     },
     "execution_count": 6,
     "metadata": {},
     "output_type": "execute_result"
    }
   ],
   "source": [
    "def soz_uzunligi(matn):\n",
    "    return len(matn)\n",
    "soz_uzunligi(matn=\"Salom\")"
   ]
  },
  {
   "cell_type": "markdown",
   "id": "b3a3a2d8",
   "metadata": {},
   "source": [
    "## 4. Berilgan listdagi so’zlar ichidan eng uzunini toping"
   ]
  },
  {
   "cell_type": "code",
   "execution_count": 11,
   "id": "41fb0ecc",
   "metadata": {},
   "outputs": [
    {
     "data": {
      "text/plain": [
       "'Samarqand'"
      ]
     },
     "execution_count": 11,
     "metadata": {},
     "output_type": "execute_result"
    }
   ],
   "source": [
    "def uzun_soz(sozli_list):\n",
    "    sozli_list=[\"salom\", \"men\", \"Samarqand\"]\n",
    "    eng_uzun=\"\"\n",
    "    max_uzunlik=0\n",
    "    for i in sozli_list:\n",
    "        if len(i)>max_uzunlik:\n",
    "            max_uzunlik=len(i)\n",
    "            eng_uzun=i\n",
    "    return eng_uzun\n",
    "uzun_soz(sozli_list=[\"salom\", \"men\", \"Samarqand\"])\n",
    "\n"
   ]
  },
  {
   "cell_type": "markdown",
   "id": "94728e52",
   "metadata": {},
   "source": [
    "## 5. Berilgan listdagi eng katta, eng kichik sonlarni topadigan funksiya yarating"
   ]
  },
  {
   "cell_type": "code",
   "execution_count": 12,
   "id": "f0751590",
   "metadata": {},
   "outputs": [
    {
     "data": {
      "text/plain": [
       "(3242, 23)"
      ]
     },
     "execution_count": 12,
     "metadata": {},
     "output_type": "execute_result"
    }
   ],
   "source": [
    "def min_max_sonlar(listlar):\n",
    "    return max(listlar),min(listlar)\n",
    "min_max_sonlar(listlar=[34,654,23 ,52,64,3242])"
   ]
  },
  {
   "cell_type": "markdown",
   "id": "9dd061d3",
   "metadata": {},
   "source": [
    "## 6. Funskiyaga berilgan faqat juft sonlarni kopaytmasini toping"
   ]
  },
  {
   "cell_type": "code",
   "execution_count": 16,
   "id": "843e69e0",
   "metadata": {},
   "outputs": [
    {
     "data": {
      "text/plain": [
       "1152"
      ]
     },
     "execution_count": 16,
     "metadata": {},
     "output_type": "execute_result"
    }
   ],
   "source": [
    "def juft_kopaytmasi(sonlar1):\n",
    "    kopaytma=1\n",
    "    for i in sonlar1:\n",
    "        if i%2==0:\n",
    "            kopaytma *= i \n",
    "    return kopaytma\n",
    "\n",
    "juft_kopaytmasi([2,4,6,7,4,3,7,6,9,21])\n"
   ]
  },
  {
   "cell_type": "markdown",
   "id": "41656dec",
   "metadata": {},
   "source": [
    "## 7. Funskiyaga berilgan faqat toq sonlarni kopaytmasini toping"
   ]
  },
  {
   "cell_type": "code",
   "execution_count": 17,
   "id": "1d956f68",
   "metadata": {},
   "outputs": [
    {
     "data": {
      "text/plain": [
       "27783"
      ]
     },
     "execution_count": 17,
     "metadata": {},
     "output_type": "execute_result"
    }
   ],
   "source": [
    "def toq_kopaytmasi(sonlar1):\n",
    "    kopaytma=1\n",
    "    for i in sonlar1:\n",
    "        if i%2!=0:\n",
    "            kopaytma *= i \n",
    "    return kopaytma\n",
    "\n",
    "toq_kopaytmasi([2,4,6,7,4,3,7,6,9,21])"
   ]
  },
  {
   "cell_type": "code",
   "execution_count": 18,
   "id": "5fd5f9c7",
   "metadata": {},
   "outputs": [
    {
     "data": {
      "text/plain": [
       "27783"
      ]
     },
     "execution_count": 18,
     "metadata": {},
     "output_type": "execute_result"
    }
   ],
   "source": [
    "7*3*7*9*21"
   ]
  },
  {
   "cell_type": "markdown",
   "id": "35bb6193",
   "metadata": {},
   "source": [
    "# ML"
   ]
  },
  {
   "cell_type": "code",
   "execution_count": 39,
   "id": "92293d40",
   "metadata": {},
   "outputs": [
    {
     "name": "stderr",
     "output_type": "stream",
     "text": [
      "C:\\Users\\User\\AppData\\Local\\Temp\\ipykernel_17908\\889803151.py:4: DtypeWarning: Columns (5,9,11,12,13) have mixed types. Specify dtype option on import or set low_memory=False.\n",
      "  df=pd.read_csv(\"bank-full.csv\")\n"
     ]
    }
   ],
   "source": [
    "import pandas as pd\n",
    "from sklearn.preprocessing import LabelEncoder, StandardScaler\n",
    "from sklearn.model_selection import train_test_split\n",
    "df=pd.read_csv(\"bank-full.csv\")"
   ]
  },
  {
   "cell_type": "code",
   "execution_count": 54,
   "id": "e8f3f9b5",
   "metadata": {},
   "outputs": [
    {
     "name": "stdout",
     "output_type": "stream",
     "text": [
      "<class 'pandas.core.frame.DataFrame'>\n",
      "RangeIndex: 45211 entries, 0 to 45210\n",
      "Data columns (total 17 columns):\n",
      " #   Column     Non-Null Count  Dtype  \n",
      "---  ------     --------------  -----  \n",
      " 0   age        45211 non-null  float64\n",
      " 1   job        45211 non-null  object \n",
      " 2   marital    45211 non-null  object \n",
      " 3   education  45211 non-null  object \n",
      " 4   default    45211 non-null  object \n",
      " 5   balance    45211 non-null  object \n",
      " 6   housing    45211 non-null  object \n",
      " 7   loan       45211 non-null  object \n",
      " 8   contact    45211 non-null  object \n",
      " 9   day        45211 non-null  object \n",
      " 10  month      45211 non-null  object \n",
      " 11  duration   45211 non-null  object \n",
      " 12  campaign   45211 non-null  object \n",
      " 13  pdays      45211 non-null  object \n",
      " 14  previous   45211 non-null  float64\n",
      " 15  poutcome   45211 non-null  object \n",
      " 16  Target     45211 non-null  object \n",
      "dtypes: float64(2), object(15)\n",
      "memory usage: 5.9+ MB\n"
     ]
    }
   ],
   "source": [
    "df.info()"
   ]
  },
  {
   "cell_type": "markdown",
   "id": "fa5e92e5",
   "metadata": {},
   "source": [
    "## 1. Funksiya yordamida missing qiymatlarni toldiring"
   ]
  },
  {
   "cell_type": "code",
   "execution_count": 52,
   "id": "55bd60f1",
   "metadata": {},
   "outputs": [],
   "source": [
    "def missing_value_toldirish(df):\n",
    "    for col in df.columns:\n",
    "        if df[col].isnull().any():\n",
    "            if df[col].dtype==\"object\":\n",
    "                df[col].fillna(df[col].mode()[0], inplace=True)\n",
    "            else:\n",
    "                df[col].fillna(df[col].mean(), inplace=True)\n",
    "    return df\n"
   ]
  },
  {
   "cell_type": "code",
   "execution_count": 53,
   "id": "7d1c9dfa",
   "metadata": {},
   "outputs": [
    {
     "name": "stderr",
     "output_type": "stream",
     "text": [
      "C:\\Users\\User\\AppData\\Local\\Temp\\ipykernel_17908\\85097941.py:7: FutureWarning: A value is trying to be set on a copy of a DataFrame or Series through chained assignment using an inplace method.\n",
      "The behavior will change in pandas 3.0. This inplace method will never work because the intermediate object on which we are setting values always behaves as a copy.\n",
      "\n",
      "For example, when doing 'df[col].method(value, inplace=True)', try using 'df.method({col: value}, inplace=True)' or df[col] = df[col].method(value) instead, to perform the operation inplace on the original object.\n",
      "\n",
      "\n",
      "  df[col].fillna(df[col].mean(), inplace=True)\n",
      "C:\\Users\\User\\AppData\\Local\\Temp\\ipykernel_17908\\85097941.py:5: FutureWarning: A value is trying to be set on a copy of a DataFrame or Series through chained assignment using an inplace method.\n",
      "The behavior will change in pandas 3.0. This inplace method will never work because the intermediate object on which we are setting values always behaves as a copy.\n",
      "\n",
      "For example, when doing 'df[col].method(value, inplace=True)', try using 'df.method({col: value}, inplace=True)' or df[col] = df[col].method(value) instead, to perform the operation inplace on the original object.\n",
      "\n",
      "\n",
      "  df[col].fillna(df[col].mode()[0], inplace=True)\n"
     ]
    }
   ],
   "source": [
    "df=missing_value_toldirish(df)"
   ]
  },
  {
   "cell_type": "markdown",
   "id": "30aff8cd",
   "metadata": {},
   "source": [
    "## 2. Funksiya yordamida encoding qiling"
   ]
  },
  {
   "cell_type": "code",
   "execution_count": 55,
   "id": "4d46c955",
   "metadata": {},
   "outputs": [
    {
     "data": {
      "text/html": [
       "<div>\n",
       "<style scoped>\n",
       "    .dataframe tbody tr th:only-of-type {\n",
       "        vertical-align: middle;\n",
       "    }\n",
       "\n",
       "    .dataframe tbody tr th {\n",
       "        vertical-align: top;\n",
       "    }\n",
       "\n",
       "    .dataframe thead th {\n",
       "        text-align: right;\n",
       "    }\n",
       "</style>\n",
       "<table border=\"1\" class=\"dataframe\">\n",
       "  <thead>\n",
       "    <tr style=\"text-align: right;\">\n",
       "      <th></th>\n",
       "      <th>age</th>\n",
       "      <th>job</th>\n",
       "      <th>marital</th>\n",
       "      <th>education</th>\n",
       "      <th>default</th>\n",
       "      <th>balance</th>\n",
       "      <th>housing</th>\n",
       "      <th>loan</th>\n",
       "      <th>contact</th>\n",
       "      <th>day</th>\n",
       "      <th>month</th>\n",
       "      <th>duration</th>\n",
       "      <th>campaign</th>\n",
       "      <th>pdays</th>\n",
       "      <th>previous</th>\n",
       "      <th>poutcome</th>\n",
       "      <th>Target</th>\n",
       "    </tr>\n",
       "  </thead>\n",
       "  <tbody>\n",
       "    <tr>\n",
       "      <th>0</th>\n",
       "      <td>58.0</td>\n",
       "      <td>management</td>\n",
       "      <td>married</td>\n",
       "      <td>tertiary</td>\n",
       "      <td>no</td>\n",
       "      <td>2143</td>\n",
       "      <td>yes</td>\n",
       "      <td>no</td>\n",
       "      <td>unknown</td>\n",
       "      <td>5</td>\n",
       "      <td>may</td>\n",
       "      <td>261</td>\n",
       "      <td>1</td>\n",
       "      <td>-1</td>\n",
       "      <td>0.0</td>\n",
       "      <td>unknown</td>\n",
       "      <td>no</td>\n",
       "    </tr>\n",
       "  </tbody>\n",
       "</table>\n",
       "</div>"
      ],
      "text/plain": [
       "    age         job  marital education default balance housing loan  contact  \\\n",
       "0  58.0  management  married  tertiary      no    2143     yes   no  unknown   \n",
       "\n",
       "  day month duration campaign pdays  previous poutcome Target  \n",
       "0   5   may      261        1    -1       0.0  unknown     no  "
      ]
     },
     "execution_count": 55,
     "metadata": {},
     "output_type": "execute_result"
    }
   ],
   "source": [
    "df.head(1)"
   ]
  },
  {
   "cell_type": "code",
   "execution_count": 58,
   "id": "0753139f",
   "metadata": {},
   "outputs": [
    {
     "name": "stdout",
     "output_type": "stream",
     "text": [
      "<class 'pandas.core.frame.DataFrame'>\n",
      "RangeIndex: 45211 entries, 0 to 45210\n",
      "Data columns (total 17 columns):\n",
      " #   Column     Non-Null Count  Dtype  \n",
      "---  ------     --------------  -----  \n",
      " 0   age        45211 non-null  float64\n",
      " 1   job        45211 non-null  object \n",
      " 2   marital    45211 non-null  object \n",
      " 3   education  45211 non-null  object \n",
      " 4   default    45211 non-null  object \n",
      " 5   balance    45211 non-null  object \n",
      " 6   housing    45211 non-null  object \n",
      " 7   loan       45211 non-null  object \n",
      " 8   contact    45211 non-null  object \n",
      " 9   day        45211 non-null  object \n",
      " 10  month      45211 non-null  object \n",
      " 11  duration   45211 non-null  object \n",
      " 12  campaign   45211 non-null  object \n",
      " 13  pdays      45211 non-null  object \n",
      " 14  previous   45211 non-null  float64\n",
      " 15  poutcome   45211 non-null  object \n",
      " 16  Target     45211 non-null  object \n",
      "dtypes: float64(2), object(15)\n",
      "memory usage: 5.9+ MB\n"
     ]
    }
   ],
   "source": [
    "df.info()"
   ]
  },
  {
   "cell_type": "code",
   "execution_count": 60,
   "id": "ab12fdb1",
   "metadata": {},
   "outputs": [],
   "source": [
    "def encoding_qilish(df):\n",
    "    encoder=LabelEncoder()\n",
    "    df=df.copy()\n",
    "    for col in df.columns:\n",
    "        if df[col].dtype==\"object\":\n",
    "            if df[col].nunique()<5:\n",
    "                dummies=pd.get_dummies(df[col], prefix=col, dtype=int)\n",
    "                df=pd.concat([df.drop(columns=[col]),dummies],axis=1)\n",
    "            else:\n",
    "                df[col]=encoder.fit_transform(df[col])\n",
    "    return df"
   ]
  },
  {
   "cell_type": "code",
   "execution_count": 61,
   "id": "65ab9aa5",
   "metadata": {},
   "outputs": [
    {
     "ename": "TypeError",
     "evalue": "Encoders require their input argument must be uniformly strings or numbers. Got ['int', 'str']",
     "output_type": "error",
     "traceback": [
      "\u001b[1;31m---------------------------------------------------------------------------\u001b[0m",
      "\u001b[1;31mTypeError\u001b[0m                                 Traceback (most recent call last)",
      "File \u001b[1;32mc:\\Users\\User\\anaconda3\\envs\\dars_7\\lib\\site-packages\\sklearn\\utils\\_encode.py:183\u001b[0m, in \u001b[0;36m_unique_python\u001b[1;34m(values, return_inverse, return_counts)\u001b[0m\n\u001b[0;32m    181\u001b[0m uniques_set, missing_values \u001b[38;5;241m=\u001b[39m _extract_missing(uniques_set)\n\u001b[1;32m--> 183\u001b[0m uniques \u001b[38;5;241m=\u001b[39m \u001b[38;5;28;43msorted\u001b[39;49m\u001b[43m(\u001b[49m\u001b[43muniques_set\u001b[49m\u001b[43m)\u001b[49m\n\u001b[0;32m    184\u001b[0m uniques\u001b[38;5;241m.\u001b[39mextend(missing_values\u001b[38;5;241m.\u001b[39mto_list())\n",
      "\u001b[1;31mTypeError\u001b[0m: '<' not supported between instances of 'str' and 'int'",
      "\nDuring handling of the above exception, another exception occurred:\n",
      "\u001b[1;31mTypeError\u001b[0m                                 Traceback (most recent call last)",
      "Cell \u001b[1;32mIn[61], line 1\u001b[0m\n\u001b[1;32m----> 1\u001b[0m df\u001b[38;5;241m=\u001b[39m\u001b[43mencoding_qilish\u001b[49m\u001b[43m(\u001b[49m\u001b[43mdf\u001b[49m\u001b[43m)\u001b[49m\n",
      "Cell \u001b[1;32mIn[60], line 10\u001b[0m, in \u001b[0;36mencoding_qilish\u001b[1;34m(df)\u001b[0m\n\u001b[0;32m      8\u001b[0m             df\u001b[38;5;241m=\u001b[39mpd\u001b[38;5;241m.\u001b[39mconcat([df\u001b[38;5;241m.\u001b[39mdrop(columns\u001b[38;5;241m=\u001b[39m[col]),dummies],axis\u001b[38;5;241m=\u001b[39m\u001b[38;5;241m1\u001b[39m)\n\u001b[0;32m      9\u001b[0m         \u001b[38;5;28;01melse\u001b[39;00m:\n\u001b[1;32m---> 10\u001b[0m             df[col]\u001b[38;5;241m=\u001b[39m\u001b[43mencoder\u001b[49m\u001b[38;5;241;43m.\u001b[39;49m\u001b[43mfit_transform\u001b[49m\u001b[43m(\u001b[49m\u001b[43mdf\u001b[49m\u001b[43m[\u001b[49m\u001b[43mcol\u001b[49m\u001b[43m]\u001b[49m\u001b[43m)\u001b[49m\n\u001b[0;32m     11\u001b[0m \u001b[38;5;28;01mreturn\u001b[39;00m df\n",
      "File \u001b[1;32mc:\\Users\\User\\anaconda3\\envs\\dars_7\\lib\\site-packages\\sklearn\\preprocessing\\_label.py:111\u001b[0m, in \u001b[0;36mLabelEncoder.fit_transform\u001b[1;34m(self, y)\u001b[0m\n\u001b[0;32m     98\u001b[0m \u001b[38;5;250m\u001b[39m\u001b[38;5;124;03m\"\"\"Fit label encoder and return encoded labels.\u001b[39;00m\n\u001b[0;32m     99\u001b[0m \n\u001b[0;32m    100\u001b[0m \u001b[38;5;124;03mParameters\u001b[39;00m\n\u001b[1;32m   (...)\u001b[0m\n\u001b[0;32m    108\u001b[0m \u001b[38;5;124;03m    Encoded labels.\u001b[39;00m\n\u001b[0;32m    109\u001b[0m \u001b[38;5;124;03m\"\"\"\u001b[39;00m\n\u001b[0;32m    110\u001b[0m y \u001b[38;5;241m=\u001b[39m column_or_1d(y, warn\u001b[38;5;241m=\u001b[39m\u001b[38;5;28;01mTrue\u001b[39;00m)\n\u001b[1;32m--> 111\u001b[0m \u001b[38;5;28mself\u001b[39m\u001b[38;5;241m.\u001b[39mclasses_, y \u001b[38;5;241m=\u001b[39m \u001b[43m_unique\u001b[49m\u001b[43m(\u001b[49m\u001b[43my\u001b[49m\u001b[43m,\u001b[49m\u001b[43m \u001b[49m\u001b[43mreturn_inverse\u001b[49m\u001b[38;5;241;43m=\u001b[39;49m\u001b[38;5;28;43;01mTrue\u001b[39;49;00m\u001b[43m)\u001b[49m\n\u001b[0;32m    112\u001b[0m \u001b[38;5;28;01mreturn\u001b[39;00m y\n",
      "File \u001b[1;32mc:\\Users\\User\\anaconda3\\envs\\dars_7\\lib\\site-packages\\sklearn\\utils\\_encode.py:52\u001b[0m, in \u001b[0;36m_unique\u001b[1;34m(values, return_inverse, return_counts)\u001b[0m\n\u001b[0;32m     21\u001b[0m \u001b[38;5;250m\u001b[39m\u001b[38;5;124;03m\"\"\"Helper function to find unique values with support for python objects.\u001b[39;00m\n\u001b[0;32m     22\u001b[0m \n\u001b[0;32m     23\u001b[0m \u001b[38;5;124;03mUses pure python method for object dtype, and numpy method for\u001b[39;00m\n\u001b[1;32m   (...)\u001b[0m\n\u001b[0;32m     49\u001b[0m \u001b[38;5;124;03m    array. Only provided if `return_counts` is True.\u001b[39;00m\n\u001b[0;32m     50\u001b[0m \u001b[38;5;124;03m\"\"\"\u001b[39;00m\n\u001b[0;32m     51\u001b[0m \u001b[38;5;28;01mif\u001b[39;00m values\u001b[38;5;241m.\u001b[39mdtype \u001b[38;5;241m==\u001b[39m \u001b[38;5;28mobject\u001b[39m:\n\u001b[1;32m---> 52\u001b[0m     \u001b[38;5;28;01mreturn\u001b[39;00m \u001b[43m_unique_python\u001b[49m\u001b[43m(\u001b[49m\n\u001b[0;32m     53\u001b[0m \u001b[43m        \u001b[49m\u001b[43mvalues\u001b[49m\u001b[43m,\u001b[49m\u001b[43m \u001b[49m\u001b[43mreturn_inverse\u001b[49m\u001b[38;5;241;43m=\u001b[39;49m\u001b[43mreturn_inverse\u001b[49m\u001b[43m,\u001b[49m\u001b[43m \u001b[49m\u001b[43mreturn_counts\u001b[49m\u001b[38;5;241;43m=\u001b[39;49m\u001b[43mreturn_counts\u001b[49m\n\u001b[0;32m     54\u001b[0m \u001b[43m    \u001b[49m\u001b[43m)\u001b[49m\n\u001b[0;32m     55\u001b[0m \u001b[38;5;66;03m# numerical\u001b[39;00m\n\u001b[0;32m     56\u001b[0m \u001b[38;5;28;01mreturn\u001b[39;00m _unique_np(\n\u001b[0;32m     57\u001b[0m     values, return_inverse\u001b[38;5;241m=\u001b[39mreturn_inverse, return_counts\u001b[38;5;241m=\u001b[39mreturn_counts\n\u001b[0;32m     58\u001b[0m )\n",
      "File \u001b[1;32mc:\\Users\\User\\anaconda3\\envs\\dars_7\\lib\\site-packages\\sklearn\\utils\\_encode.py:188\u001b[0m, in \u001b[0;36m_unique_python\u001b[1;34m(values, return_inverse, return_counts)\u001b[0m\n\u001b[0;32m    186\u001b[0m \u001b[38;5;28;01mexcept\u001b[39;00m \u001b[38;5;167;01mTypeError\u001b[39;00m:\n\u001b[0;32m    187\u001b[0m     types \u001b[38;5;241m=\u001b[39m \u001b[38;5;28msorted\u001b[39m(t\u001b[38;5;241m.\u001b[39m\u001b[38;5;18m__qualname__\u001b[39m \u001b[38;5;28;01mfor\u001b[39;00m t \u001b[38;5;129;01min\u001b[39;00m \u001b[38;5;28mset\u001b[39m(\u001b[38;5;28mtype\u001b[39m(v) \u001b[38;5;28;01mfor\u001b[39;00m v \u001b[38;5;129;01min\u001b[39;00m values))\n\u001b[1;32m--> 188\u001b[0m     \u001b[38;5;28;01mraise\u001b[39;00m \u001b[38;5;167;01mTypeError\u001b[39;00m(\n\u001b[0;32m    189\u001b[0m         \u001b[38;5;124m\"\u001b[39m\u001b[38;5;124mEncoders require their input argument must be uniformly \u001b[39m\u001b[38;5;124m\"\u001b[39m\n\u001b[0;32m    190\u001b[0m         \u001b[38;5;124mf\u001b[39m\u001b[38;5;124m\"\u001b[39m\u001b[38;5;124mstrings or numbers. Got \u001b[39m\u001b[38;5;132;01m{\u001b[39;00mtypes\u001b[38;5;132;01m}\u001b[39;00m\u001b[38;5;124m\"\u001b[39m\n\u001b[0;32m    191\u001b[0m     )\n\u001b[0;32m    192\u001b[0m ret \u001b[38;5;241m=\u001b[39m (uniques,)\n\u001b[0;32m    194\u001b[0m \u001b[38;5;28;01mif\u001b[39;00m return_inverse:\n",
      "\u001b[1;31mTypeError\u001b[0m: Encoders require their input argument must be uniformly strings or numbers. Got ['int', 'str']"
     ]
    }
   ],
   "source": [
    "df=encoding_qilish(df)\n",
    "\n",
    "\n"
   ]
  },
  {
   "cell_type": "code",
   "execution_count": 64,
   "id": "617c4fb4",
   "metadata": {},
   "outputs": [],
   "source": [
    "from sklearn.preprocessing import MinMaxScaler\n",
    "def scaling_qilish(df):\n",
    "    scaler=MinMaxScaler()\n",
    "    num_col=df.select_dtypes(include=['float64']).columns.drop('Target')\n",
    "    df[num_col]=scaler.fit_transform(df[num_col])\n",
    "    return df"
   ]
  },
  {
   "cell_type": "code",
   "execution_count": null,
   "id": "8066e3bc",
   "metadata": {},
   "outputs": [],
   "source": [
    "df=scaling_qilish(df)"
   ]
  },
  {
   "cell_type": "code",
   "execution_count": 66,
   "id": "bd0f386b",
   "metadata": {},
   "outputs": [],
   "source": [
    "x=df.drop(\"Target\",axis=1)"
   ]
  },
  {
   "cell_type": "code",
   "execution_count": 67,
   "id": "deff4cb3",
   "metadata": {},
   "outputs": [],
   "source": [
    "y=df[\"Target\"]"
   ]
  },
  {
   "cell_type": "code",
   "execution_count": 68,
   "id": "aa148a5b",
   "metadata": {},
   "outputs": [],
   "source": [
    "from sklearn.model_selection import train_test_split"
   ]
  },
  {
   "cell_type": "code",
   "execution_count": null,
   "id": "dfcc8b69",
   "metadata": {},
   "outputs": [],
   "source": [
    "x_train,x_test,y_train,y_test=(x,y,test_size=0.3,random_state=42)"
   ]
  },
  {
   "cell_type": "code",
   "execution_count": 70,
   "id": "6c344532",
   "metadata": {},
   "outputs": [],
   "source": [
    "from sklearn.linear_model import LinearRegression\n",
    "lr_model=LinearRegression()"
   ]
  },
  {
   "cell_type": "code",
   "execution_count": null,
   "id": "bb987fb4",
   "metadata": {},
   "outputs": [],
   "source": [
    "lr_model.fit(x_train,y_train)"
   ]
  },
  {
   "cell_type": "code",
   "execution_count": null,
   "id": "048a9cce",
   "metadata": {},
   "outputs": [],
   "source": [
    "y_bashorat=lr_model.predict(x_test)"
   ]
  },
  {
   "cell_type": "code",
   "execution_count": 73,
   "id": "62712bdb",
   "metadata": {},
   "outputs": [],
   "source": [
    "from sklearn.metrics import r2_score, mean_absolute_error, root_mean_squared_error, mean_squared_error"
   ]
  },
  {
   "cell_type": "code",
   "execution_count": null,
   "id": "314bf974",
   "metadata": {},
   "outputs": [],
   "source": [
    "r2=r2_score(y_test,y_pred)\n",
    "mae=mean_absolute_error(y_test,y_pred)\n",
    "mse=mean_squared_error(y_test,y_pred)\n",
    "rmse=root_mean_squared_error(y_test,y_pred)"
   ]
  },
  {
   "cell_type": "code",
   "execution_count": null,
   "id": "b42dabe9",
   "metadata": {},
   "outputs": [],
   "source": [
    "print('r2:',r2)\n",
    "print('mae:',mae)\n",
    "print('mse:',mse)\n",
    "print('rmse:',rmse)"
   ]
  }
 ],
 "metadata": {
  "kernelspec": {
   "display_name": "dars_7",
   "language": "python",
   "name": "python3"
  },
  "language_info": {
   "codemirror_mode": {
    "name": "ipython",
    "version": 3
   },
   "file_extension": ".py",
   "mimetype": "text/x-python",
   "name": "python",
   "nbconvert_exporter": "python",
   "pygments_lexer": "ipython3",
   "version": "3.10.17"
  }
 },
 "nbformat": 4,
 "nbformat_minor": 5
}
