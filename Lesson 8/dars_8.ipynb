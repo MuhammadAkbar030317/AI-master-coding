{
 "cells": [
  {
   "cell_type": "markdown",
   "id": "edad0360",
   "metadata": {},
   "source": [
    "# Vazifa (8)"
   ]
  },
  {
   "cell_type": "code",
   "execution_count": 26,
   "id": "a55279af",
   "metadata": {},
   "outputs": [],
   "source": [
    "import pandas as pd\n",
    "df=pd.read_csv(\"electric_vehicles_spec_2025.csv.csv\")"
   ]
  },
  {
   "cell_type": "code",
   "execution_count": null,
   "id": "deec9b8d",
   "metadata": {},
   "outputs": [],
   "source": [
    "df.info()"
   ]
  },
  {
   "cell_type": "code",
   "execution_count": 15,
   "id": "ce524ada",
   "metadata": {},
   "outputs": [
    {
     "data": {
      "text/plain": [
       "59"
      ]
     },
     "execution_count": 15,
     "metadata": {},
     "output_type": "execute_result"
    }
   ],
   "source": [
    "df['brand'].nunique()"
   ]
  },
  {
   "cell_type": "code",
   "execution_count": null,
   "id": "35503363",
   "metadata": {},
   "outputs": [],
   "source": [
    "df=pd.get_dummies(df,columns=['brand'],prefix='brand', dtype=int) # 59 ta unique qiymat bor ekan va ustuzlar soni ham 79 ta bo'lib ketdi"
   ]
  },
  {
   "cell_type": "code",
   "execution_count": null,
   "id": "f33247d7",
   "metadata": {},
   "outputs": [],
   "source": [
    "! pip install scikit-learn\n"
   ]
  },
  {
   "cell_type": "code",
   "execution_count": 40,
   "id": "3b6cb1f7",
   "metadata": {},
   "outputs": [],
   "source": [
    "from sklearn.preprocessing import LabelEncoder\n",
    "encoder=LabelEncoder()"
   ]
  },
  {
   "cell_type": "code",
   "execution_count": 28,
   "id": "93072288",
   "metadata": {},
   "outputs": [],
   "source": [
    "df['model']=encoder.fit_transform(df['model'])"
   ]
  },
  {
   "cell_type": "code",
   "execution_count": null,
   "id": "feaf47e9",
   "metadata": {},
   "outputs": [],
   "source": [
    "df.info()  # model estunimiz integer ga o'zgardi"
   ]
  },
  {
   "cell_type": "markdown",
   "id": "b5960725",
   "metadata": {},
   "source": [
    "# Python coding vazifa 8"
   ]
  },
  {
   "cell_type": "code",
   "execution_count": null,
   "id": "808b7cc4",
   "metadata": {},
   "outputs": [],
   "source": [
    "for i in range(1,101):\n",
    "    if i %5==0:\n",
    "        print(i)"
   ]
  },
  {
   "cell_type": "code",
   "execution_count": null,
   "id": "a1b973c7",
   "metadata": {},
   "outputs": [],
   "source": [
    "for i in range(5,101,5): \n",
    "    print(i)\n",
    "# Bu yerda men start ni 1 dan qilib olmadim sababi 1 dan start qilsam qanday qilishni bilmadim\n",
    "# 0 dan start qilganimda ham oson bo'lar edi"
   ]
  },
  {
   "cell_type": "code",
   "execution_count": 39,
   "id": "53e3e4e7",
   "metadata": {},
   "outputs": [
    {
     "name": "stdout",
     "output_type": "stream",
     "text": [
      "4\n",
      "6\n"
     ]
    }
   ],
   "source": [
    "a=[-2,3,4,-5,6,7]\n",
    "for i in a:\n",
    "    if (i >0) and (i%2==0):\n",
    "        print(i)"
   ]
  },
  {
   "cell_type": "code",
   "execution_count": 1,
   "id": "bc422c6e",
   "metadata": {},
   "outputs": [
    {
     "name": "stdout",
     "output_type": "stream",
     "text": [
      "hello\n"
     ]
    }
   ],
   "source": [
    "print(\"hello\")"
   ]
  },
  {
   "cell_type": "code",
   "execution_count": 1,
   "id": "bb99db5b",
   "metadata": {},
   "outputs": [
    {
     "name": "stdout",
     "output_type": "stream",
     "text": [
      "OK\n"
     ]
    }
   ],
   "source": [
    "print(\"OK\")"
   ]
  }
 ],
 "metadata": {
  "kernelspec": {
   "display_name": "dars_7",
   "language": "python",
   "name": "python3"
  },
  "language_info": {
   "codemirror_mode": {
    "name": "ipython",
    "version": 3
   },
   "file_extension": ".py",
   "mimetype": "text/x-python",
   "name": "python",
   "nbconvert_exporter": "python",
   "pygments_lexer": "ipython3",
   "version": "3.10.17"
  }
 },
 "nbformat": 4,
 "nbformat_minor": 5
}
