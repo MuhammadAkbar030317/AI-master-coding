{
 "cells": [
  {
   "cell_type": "code",
   "execution_count": 9,
   "id": "4dafedab",
   "metadata": {},
   "outputs": [],
   "source": [
    "import pandas as pd\n",
    "df=pd.read_csv(\"C:/Users/User/Downloads/Telegram Desktop/Indian_Kids_Screen_Time.csv\")"
   ]
  },
  {
   "cell_type": "markdown",
   "id": "55d2ffc1",
   "metadata": {},
   "source": [
    "## data haqida malumotlar"
   ]
  },
  {
   "cell_type": "code",
   "execution_count": 10,
   "id": "06738bfb",
   "metadata": {},
   "outputs": [
    {
     "name": "stdout",
     "output_type": "stream",
     "text": [
      "<class 'pandas.core.frame.DataFrame'>\n",
      "RangeIndex: 9712 entries, 0 to 9711\n",
      "Data columns (total 8 columns):\n",
      " #   Column                             Non-Null Count  Dtype  \n",
      "---  ------                             --------------  -----  \n",
      " 0   Age                                9712 non-null   int64  \n",
      " 1   Gender                             9712 non-null   object \n",
      " 2   Avg_Daily_Screen_Time_hr           9712 non-null   float64\n",
      " 3   Primary_Device                     9712 non-null   object \n",
      " 4   Exceeded_Recommended_Limit         9712 non-null   bool   \n",
      " 5   Educational_to_Recreational_Ratio  9712 non-null   float64\n",
      " 6   Health_Impacts                     6494 non-null   object \n",
      " 7   Urban_or_Rural                     9712 non-null   object \n",
      "dtypes: bool(1), float64(2), int64(1), object(4)\n",
      "memory usage: 540.7+ KB\n"
     ]
    }
   ],
   "source": [
    "df.info() # umumiy malumot beradi"
   ]
  },
  {
   "cell_type": "code",
   "execution_count": 3,
   "id": "7becd207",
   "metadata": {},
   "outputs": [
    {
     "data": {
      "text/html": [
       "<div>\n",
       "<style scoped>\n",
       "    .dataframe tbody tr th:only-of-type {\n",
       "        vertical-align: middle;\n",
       "    }\n",
       "\n",
       "    .dataframe tbody tr th {\n",
       "        vertical-align: top;\n",
       "    }\n",
       "\n",
       "    .dataframe thead th {\n",
       "        text-align: right;\n",
       "    }\n",
       "</style>\n",
       "<table border=\"1\" class=\"dataframe\">\n",
       "  <thead>\n",
       "    <tr style=\"text-align: right;\">\n",
       "      <th></th>\n",
       "      <th>Age</th>\n",
       "      <th>Gender</th>\n",
       "      <th>Avg_Daily_Screen_Time_hr</th>\n",
       "      <th>Primary_Device</th>\n",
       "      <th>Exceeded_Recommended_Limit</th>\n",
       "      <th>Educational_to_Recreational_Ratio</th>\n",
       "      <th>Health_Impacts</th>\n",
       "      <th>Urban_or_Rural</th>\n",
       "    </tr>\n",
       "  </thead>\n",
       "  <tbody>\n",
       "    <tr>\n",
       "      <th>0</th>\n",
       "      <td>14</td>\n",
       "      <td>Male</td>\n",
       "      <td>3.99</td>\n",
       "      <td>Smartphone</td>\n",
       "      <td>True</td>\n",
       "      <td>0.42</td>\n",
       "      <td>Poor Sleep, Eye Strain</td>\n",
       "      <td>Urban</td>\n",
       "    </tr>\n",
       "    <tr>\n",
       "      <th>1</th>\n",
       "      <td>11</td>\n",
       "      <td>Female</td>\n",
       "      <td>4.61</td>\n",
       "      <td>Laptop</td>\n",
       "      <td>True</td>\n",
       "      <td>0.30</td>\n",
       "      <td>Poor Sleep</td>\n",
       "      <td>Urban</td>\n",
       "    </tr>\n",
       "    <tr>\n",
       "      <th>2</th>\n",
       "      <td>18</td>\n",
       "      <td>Female</td>\n",
       "      <td>3.73</td>\n",
       "      <td>TV</td>\n",
       "      <td>True</td>\n",
       "      <td>0.32</td>\n",
       "      <td>Poor Sleep</td>\n",
       "      <td>Urban</td>\n",
       "    </tr>\n",
       "    <tr>\n",
       "      <th>3</th>\n",
       "      <td>15</td>\n",
       "      <td>Female</td>\n",
       "      <td>1.21</td>\n",
       "      <td>Laptop</td>\n",
       "      <td>False</td>\n",
       "      <td>0.39</td>\n",
       "      <td>NaN</td>\n",
       "      <td>Urban</td>\n",
       "    </tr>\n",
       "    <tr>\n",
       "      <th>4</th>\n",
       "      <td>12</td>\n",
       "      <td>Female</td>\n",
       "      <td>5.89</td>\n",
       "      <td>Smartphone</td>\n",
       "      <td>True</td>\n",
       "      <td>0.49</td>\n",
       "      <td>Poor Sleep, Anxiety</td>\n",
       "      <td>Urban</td>\n",
       "    </tr>\n",
       "  </tbody>\n",
       "</table>\n",
       "</div>"
      ],
      "text/plain": [
       "   Age  Gender  Avg_Daily_Screen_Time_hr Primary_Device  \\\n",
       "0   14    Male                      3.99     Smartphone   \n",
       "1   11  Female                      4.61         Laptop   \n",
       "2   18  Female                      3.73             TV   \n",
       "3   15  Female                      1.21         Laptop   \n",
       "4   12  Female                      5.89     Smartphone   \n",
       "\n",
       "   Exceeded_Recommended_Limit  Educational_to_Recreational_Ratio  \\\n",
       "0                        True                               0.42   \n",
       "1                        True                               0.30   \n",
       "2                        True                               0.32   \n",
       "3                       False                               0.39   \n",
       "4                        True                               0.49   \n",
       "\n",
       "           Health_Impacts Urban_or_Rural  \n",
       "0  Poor Sleep, Eye Strain          Urban  \n",
       "1              Poor Sleep          Urban  \n",
       "2              Poor Sleep          Urban  \n",
       "3                     NaN          Urban  \n",
       "4     Poor Sleep, Anxiety          Urban  "
      ]
     },
     "execution_count": 3,
     "metadata": {},
     "output_type": "execute_result"
    }
   ],
   "source": [
    "df.head()  # boshidan beshtasini ko'rsatadi"
   ]
  },
  {
   "cell_type": "code",
   "execution_count": 4,
   "id": "5715ef0f",
   "metadata": {},
   "outputs": [
    {
     "data": {
      "text/html": [
       "<div>\n",
       "<style scoped>\n",
       "    .dataframe tbody tr th:only-of-type {\n",
       "        vertical-align: middle;\n",
       "    }\n",
       "\n",
       "    .dataframe tbody tr th {\n",
       "        vertical-align: top;\n",
       "    }\n",
       "\n",
       "    .dataframe thead th {\n",
       "        text-align: right;\n",
       "    }\n",
       "</style>\n",
       "<table border=\"1\" class=\"dataframe\">\n",
       "  <thead>\n",
       "    <tr style=\"text-align: right;\">\n",
       "      <th></th>\n",
       "      <th>Age</th>\n",
       "      <th>Gender</th>\n",
       "      <th>Avg_Daily_Screen_Time_hr</th>\n",
       "      <th>Primary_Device</th>\n",
       "      <th>Exceeded_Recommended_Limit</th>\n",
       "      <th>Educational_to_Recreational_Ratio</th>\n",
       "      <th>Health_Impacts</th>\n",
       "      <th>Urban_or_Rural</th>\n",
       "    </tr>\n",
       "  </thead>\n",
       "  <tbody>\n",
       "    <tr>\n",
       "      <th>9707</th>\n",
       "      <td>17</td>\n",
       "      <td>Male</td>\n",
       "      <td>3.26</td>\n",
       "      <td>Smartphone</td>\n",
       "      <td>True</td>\n",
       "      <td>0.44</td>\n",
       "      <td>Poor Sleep</td>\n",
       "      <td>Urban</td>\n",
       "    </tr>\n",
       "    <tr>\n",
       "      <th>9708</th>\n",
       "      <td>17</td>\n",
       "      <td>Female</td>\n",
       "      <td>4.43</td>\n",
       "      <td>Smartphone</td>\n",
       "      <td>True</td>\n",
       "      <td>0.40</td>\n",
       "      <td>Poor Sleep</td>\n",
       "      <td>Rural</td>\n",
       "    </tr>\n",
       "    <tr>\n",
       "      <th>9709</th>\n",
       "      <td>16</td>\n",
       "      <td>Male</td>\n",
       "      <td>5.62</td>\n",
       "      <td>Smartphone</td>\n",
       "      <td>True</td>\n",
       "      <td>0.39</td>\n",
       "      <td>Poor Sleep, Eye Strain, Anxiety</td>\n",
       "      <td>Rural</td>\n",
       "    </tr>\n",
       "    <tr>\n",
       "      <th>9710</th>\n",
       "      <td>17</td>\n",
       "      <td>Male</td>\n",
       "      <td>5.60</td>\n",
       "      <td>TV</td>\n",
       "      <td>True</td>\n",
       "      <td>0.43</td>\n",
       "      <td>Poor Sleep</td>\n",
       "      <td>Urban</td>\n",
       "    </tr>\n",
       "    <tr>\n",
       "      <th>9711</th>\n",
       "      <td>15</td>\n",
       "      <td>Female</td>\n",
       "      <td>6.12</td>\n",
       "      <td>TV</td>\n",
       "      <td>True</td>\n",
       "      <td>0.33</td>\n",
       "      <td>Anxiety</td>\n",
       "      <td>Urban</td>\n",
       "    </tr>\n",
       "  </tbody>\n",
       "</table>\n",
       "</div>"
      ],
      "text/plain": [
       "      Age  Gender  Avg_Daily_Screen_Time_hr Primary_Device  \\\n",
       "9707   17    Male                      3.26     Smartphone   \n",
       "9708   17  Female                      4.43     Smartphone   \n",
       "9709   16    Male                      5.62     Smartphone   \n",
       "9710   17    Male                      5.60             TV   \n",
       "9711   15  Female                      6.12             TV   \n",
       "\n",
       "      Exceeded_Recommended_Limit  Educational_to_Recreational_Ratio  \\\n",
       "9707                        True                               0.44   \n",
       "9708                        True                               0.40   \n",
       "9709                        True                               0.39   \n",
       "9710                        True                               0.43   \n",
       "9711                        True                               0.33   \n",
       "\n",
       "                       Health_Impacts Urban_or_Rural  \n",
       "9707                       Poor Sleep          Urban  \n",
       "9708                       Poor Sleep          Rural  \n",
       "9709  Poor Sleep, Eye Strain, Anxiety          Rural  \n",
       "9710                       Poor Sleep          Urban  \n",
       "9711                          Anxiety          Urban  "
      ]
     },
     "execution_count": 4,
     "metadata": {},
     "output_type": "execute_result"
    }
   ],
   "source": [
    "df.tail() # oxiridan beshtasini ko'rsatadi"
   ]
  },
  {
   "cell_type": "code",
   "execution_count": 5,
   "id": "8c0704f6",
   "metadata": {},
   "outputs": [
    {
     "data": {
      "text/plain": [
       "Age                                     0\n",
       "Gender                                  0\n",
       "Avg_Daily_Screen_Time_hr                0\n",
       "Primary_Device                          0\n",
       "Exceeded_Recommended_Limit              0\n",
       "Educational_to_Recreational_Ratio       0\n",
       "Health_Impacts                       3218\n",
       "Urban_or_Rural                          0\n",
       "dtype: int64"
      ]
     },
     "execution_count": 5,
     "metadata": {},
     "output_type": "execute_result"
    }
   ],
   "source": [
    "df.isnull().sum()  # qaysi ustunda qancha qiymat tushib qolganini ko'rsatadi"
   ]
  },
  {
   "cell_type": "markdown",
   "id": "89c20f18",
   "metadata": {},
   "source": [
    "## Data preprocessing"
   ]
  },
  {
   "cell_type": "markdown",
   "id": "84f1d78d",
   "metadata": {},
   "source": [
    "### Missing values"
   ]
  },
  {
   "cell_type": "code",
   "execution_count": 6,
   "id": "aedf49b9",
   "metadata": {},
   "outputs": [
    {
     "name": "stderr",
     "output_type": "stream",
     "text": [
      "C:\\Users\\User\\AppData\\Local\\Temp\\ipykernel_20676\\4090541828.py:2: FutureWarning: A value is trying to be set on a copy of a DataFrame or Series through chained assignment using an inplace method.\n",
      "The behavior will change in pandas 3.0. This inplace method will never work because the intermediate object on which we are setting values always behaves as a copy.\n",
      "\n",
      "For example, when doing 'df[col].method(value, inplace=True)', try using 'df.method({col: value}, inplace=True)' or df[col] = df[col].method(value) instead, to perform the operation inplace on the original object.\n",
      "\n",
      "\n",
      "  df[\"Age\"].fillna(df[\"Age\"].mean(), inplace=True)\n"
     ]
    }
   ],
   "source": [
    "# Mean bilan\n",
    "df[\"Age\"].fillna(df[\"Age\"].mean(), inplace=True)"
   ]
  },
  {
   "cell_type": "code",
   "execution_count": 7,
   "id": "b97c7852",
   "metadata": {},
   "outputs": [
    {
     "name": "stderr",
     "output_type": "stream",
     "text": [
      "C:\\Users\\User\\AppData\\Local\\Temp\\ipykernel_20676\\1602199854.py:2: FutureWarning: A value is trying to be set on a copy of a DataFrame or Series through chained assignment using an inplace method.\n",
      "The behavior will change in pandas 3.0. This inplace method will never work because the intermediate object on which we are setting values always behaves as a copy.\n",
      "\n",
      "For example, when doing 'df[col].method(value, inplace=True)', try using 'df.method({col: value}, inplace=True)' or df[col] = df[col].method(value) instead, to perform the operation inplace on the original object.\n",
      "\n",
      "\n",
      "  df[\"Gender\"].fillna(df[\"Gender\"].mode()[0], inplace=True)\n"
     ]
    }
   ],
   "source": [
    "# Mode bilan\n",
    "df[\"Gender\"].fillna(df[\"Gender\"].mode()[0], inplace=True)"
   ]
  },
  {
   "cell_type": "code",
   "execution_count": 8,
   "id": "3e614c9f",
   "metadata": {},
   "outputs": [
    {
     "name": "stderr",
     "output_type": "stream",
     "text": [
      "C:\\Users\\User\\AppData\\Local\\Temp\\ipykernel_20676\\2958733270.py:2: FutureWarning: A value is trying to be set on a copy of a DataFrame or Series through chained assignment using an inplace method.\n",
      "The behavior will change in pandas 3.0. This inplace method will never work because the intermediate object on which we are setting values always behaves as a copy.\n",
      "\n",
      "For example, when doing 'df[col].method(value, inplace=True)', try using 'df.method({col: value}, inplace=True)' or df[col] = df[col].method(value) instead, to perform the operation inplace on the original object.\n",
      "\n",
      "\n",
      "  df[\"Avg_Daily_Screen_Time_hr\"].fillna(df[\"Avg_Daily_Screen_Time_hr\"].median(), inplace=True)\n"
     ]
    }
   ],
   "source": [
    "# median bilan\n",
    "df[\"Avg_Daily_Screen_Time_hr\"].fillna(df[\"Avg_Daily_Screen_Time_hr\"].median(), inplace=True)"
   ]
  },
  {
   "cell_type": "code",
   "execution_count": 9,
   "id": "cca824b1",
   "metadata": {},
   "outputs": [
    {
     "name": "stderr",
     "output_type": "stream",
     "text": [
      "C:\\Users\\User\\AppData\\Local\\Temp\\ipykernel_20676\\729725338.py:2: FutureWarning: A value is trying to be set on a copy of a DataFrame or Series through chained assignment using an inplace method.\n",
      "The behavior will change in pandas 3.0. This inplace method will never work because the intermediate object on which we are setting values always behaves as a copy.\n",
      "\n",
      "For example, when doing 'df[col].method(value, inplace=True)', try using 'df.method({col: value}, inplace=True)' or df[col] = df[col].method(value) instead, to perform the operation inplace on the original object.\n",
      "\n",
      "\n",
      "  df[\"Educational_to_Recreational_Ratio\"].fillna(0.40, inplace=True)\n"
     ]
    }
   ],
   "source": [
    "#fixed bilan  agar int yoki float bo'lmasdan str bo'lsa qo'sh tirnoq ichiga olib qo'yamiz\n",
    "df[\"Educational_to_Recreational_Ratio\"].fillna(0.40, inplace=True)"
   ]
  },
  {
   "cell_type": "code",
   "execution_count": 10,
   "id": "b2159d37",
   "metadata": {},
   "outputs": [],
   "source": [
    "# drop bilan ustunni tashlashni ko'ramiz\n",
    "df.drop(\"Health_Impacts\", axis=1, inplace=True)"
   ]
  },
  {
   "cell_type": "code",
   "execution_count": 11,
   "id": "2d6ad205",
   "metadata": {},
   "outputs": [],
   "source": [
    "# drop bilan qatorni tashlashni ko'ramiz\n",
    "df.dropna( inplace=True)   # bu kodda agar qatorda bitta bo'lsa ham missing \n",
    "                           #  value bo'lsa qatorni tashlab yuboradi\n"
   ]
  },
  {
   "cell_type": "code",
   "execution_count": 12,
   "id": "fd046d1b",
   "metadata": {},
   "outputs": [],
   "source": [
    "# drop \n",
    "df.dropna(axis=1, inplace=True)     # bunda 1 ta bo'lsa ham missing value bor bo'lgan ustunni tashlab yuboradi\n"
   ]
  },
  {
   "cell_type": "code",
   "execution_count": null,
   "id": "a34fc06f",
   "metadata": {},
   "outputs": [],
   "source": [
    "# bu yerda siz ko'rsatgandan boshqacha tushunib yozdim agar to'liq description bersam ko'payib ketadi\n",
    "for col in df.columns:\n",
    "    if (df[col].isnull().any()) and (df[col].dtype=='object'):\n",
    "        df[col].fillna(df[col].mode()[0],inplace=True)\n",
    "    else:\n",
    "        df[col].fillna(df[col].mean(),inplace=True)"
   ]
  },
  {
   "cell_type": "markdown",
   "id": "a2f5a6cb",
   "metadata": {},
   "source": [
    "## encoding"
   ]
  },
  {
   "cell_type": "code",
   "execution_count": 13,
   "id": "f22d95c2",
   "metadata": {},
   "outputs": [
    {
     "data": {
      "text/plain": [
       "2"
      ]
     },
     "execution_count": 13,
     "metadata": {},
     "output_type": "execute_result"
    }
   ],
   "source": [
    "df[\"Gender\"].nunique()"
   ]
  },
  {
   "cell_type": "code",
   "execution_count": 14,
   "id": "15491d9c",
   "metadata": {},
   "outputs": [],
   "source": [
    "# one - hot \n",
    "df=pd.get_dummies(df[\"Gender\"], prefix=\"Gender\", dtype=int)"
   ]
  },
  {
   "cell_type": "code",
   "execution_count": null,
   "id": "c8f8cb39",
   "metadata": {},
   "outputs": [],
   "source": [
    "#label encoding"
   ]
  },
  {
   "cell_type": "code",
   "execution_count": 30,
   "id": "e554bb4a",
   "metadata": {},
   "outputs": [],
   "source": [
    "from sklearn.preprocessing import LabelEncoder\n",
    "encoder=LabelEncoder()"
   ]
  },
  {
   "cell_type": "code",
   "execution_count": 31,
   "id": "d8aacf34",
   "metadata": {},
   "outputs": [],
   "source": [
    "df[\"Health_Impacts\"]=encoder.fit_transform(df[\"Health_Impacts\"])"
   ]
  },
  {
   "cell_type": "code",
   "execution_count": 32,
   "id": "4ee677c8",
   "metadata": {},
   "outputs": [],
   "source": [
    "# frequency encoding\n",
    "frequency=df[\"Urban_or_Rural\"].value_counts()\n",
    "df['Urban_or_Rural_fre']=df[\"Urban_or_Rural\"].map(frequency)\n"
   ]
  },
  {
   "cell_type": "code",
   "execution_count": 34,
   "id": "a30b17f7",
   "metadata": {},
   "outputs": [],
   "source": [
    "df.drop(\"Urban_or_Rural\", axis=1, inplace=True)"
   ]
  },
  {
   "cell_type": "code",
   "execution_count": 3,
   "id": "5f7a97e9",
   "metadata": {},
   "outputs": [],
   "source": [
    "df=pd.get_dummies(df[\"Urban_or_Rural\"], prefix=\"Urban_or_Rural\", dtype=int) # mana bu yerda target encoding\n",
    "#  ishlashi un target qiymatni one-hot encoding bilan qilib oldim "
   ]
  },
  {
   "cell_type": "code",
   "execution_count": null,
   "id": "5560709a",
   "metadata": {},
   "outputs": [],
   "source": [
    "# target encoding\n",
    "target = df.groupby(\"Health_Impacts\")[\"Urban_or_Rural\"].mean()    # xatolik chiqayabdi faqat\n",
    "df[\"Health_Impacts_target\"]=df[\"Health_Impacts\"].map(target)"
   ]
  },
  {
   "cell_type": "code",
   "execution_count": null,
   "id": "6a90d167",
   "metadata": {},
   "outputs": [],
   "source": [
    "#ordinal encodin un dictionary yozish kerak ko'p vaqt oladi shunga tashlab ketdim\n",
    "#    df['ozgaruvchi']=df['ustun_nomi'].map(\"dictionary\")"
   ]
  },
  {
   "cell_type": "code",
   "execution_count": 12,
   "id": "477a4827",
   "metadata": {},
   "outputs": [],
   "source": [
    "from sklearn.preprocessing import StandardScaler,MinMaxScaler,RobustScaler\n",
    "standart=StandardScaler()\n",
    "minmax=MinMaxScaler()\n",
    "robust=RobustScaler()"
   ]
  },
  {
   "cell_type": "code",
   "execution_count": 13,
   "id": "783d503a",
   "metadata": {},
   "outputs": [
    {
     "name": "stdout",
     "output_type": "stream",
     "text": [
      "<class 'pandas.core.frame.DataFrame'>\n",
      "RangeIndex: 9712 entries, 0 to 9711\n",
      "Data columns (total 8 columns):\n",
      " #   Column                             Non-Null Count  Dtype  \n",
      "---  ------                             --------------  -----  \n",
      " 0   Age                                9712 non-null   int64  \n",
      " 1   Gender                             9712 non-null   object \n",
      " 2   Avg_Daily_Screen_Time_hr           9712 non-null   float64\n",
      " 3   Primary_Device                     9712 non-null   object \n",
      " 4   Exceeded_Recommended_Limit         9712 non-null   bool   \n",
      " 5   Educational_to_Recreational_Ratio  9712 non-null   float64\n",
      " 6   Health_Impacts                     6494 non-null   object \n",
      " 7   Urban_or_Rural                     9712 non-null   object \n",
      "dtypes: bool(1), float64(2), int64(1), object(4)\n",
      "memory usage: 540.7+ KB\n"
     ]
    }
   ],
   "source": [
    "df.info()"
   ]
  },
  {
   "cell_type": "code",
   "execution_count": 14,
   "id": "6c7fc961",
   "metadata": {},
   "outputs": [],
   "source": [
    "num_col=df.select_dtypes(include=['float64','int64']).columns.tolist()"
   ]
  },
  {
   "cell_type": "code",
   "execution_count": 15,
   "id": "2c9e8c90",
   "metadata": {},
   "outputs": [
    {
     "data": {
      "text/plain": [
       "['Age', 'Avg_Daily_Screen_Time_hr', 'Educational_to_Recreational_Ratio']"
      ]
     },
     "execution_count": 15,
     "metadata": {},
     "output_type": "execute_result"
    }
   ],
   "source": [
    "num_col"
   ]
  },
  {
   "cell_type": "code",
   "execution_count": 16,
   "id": "c4eb014c",
   "metadata": {},
   "outputs": [],
   "source": [
    "df[num_col]=standart.fit_transform(df[num_col])"
   ]
  },
  {
   "cell_type": "code",
   "execution_count": 17,
   "id": "10bb48a9",
   "metadata": {},
   "outputs": [],
   "source": [
    "df[num_col]=minmax.fit_transform(df[num_col])"
   ]
  },
  {
   "cell_type": "code",
   "execution_count": 18,
   "id": "53353897",
   "metadata": {},
   "outputs": [],
   "source": [
    "df[num_col]=robust.fit_transform(df[num_col])"
   ]
  },
  {
   "cell_type": "code",
   "execution_count": null,
   "id": "b75a0140",
   "metadata": {},
   "outputs": [],
   "source": []
  }
 ],
 "metadata": {
  "kernelspec": {
   "display_name": "dars_7",
   "language": "python",
   "name": "python3"
  },
  "language_info": {
   "codemirror_mode": {
    "name": "ipython",
    "version": 3
   },
   "file_extension": ".py",
   "mimetype": "text/x-python",
   "name": "python",
   "nbconvert_exporter": "python",
   "pygments_lexer": "ipython3",
   "version": "3.10.17"
  }
 },
 "nbformat": 4,
 "nbformat_minor": 5
}
