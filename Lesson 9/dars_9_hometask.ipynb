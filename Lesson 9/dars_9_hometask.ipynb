{
 "cells": [
  {
   "cell_type": "code",
   "execution_count": 49,
   "id": "717d3150",
   "metadata": {},
   "outputs": [],
   "source": [
    "import pandas as pd\n",
    "df=pd.read_csv(\"C:/Users/User/Downloads/teen_phone_addiction_dataset.csv\")"
   ]
  },
  {
   "cell_type": "code",
   "execution_count": 50,
   "id": "f8d2921e",
   "metadata": {},
   "outputs": [
    {
     "name": "stdout",
     "output_type": "stream",
     "text": [
      "<class 'pandas.core.frame.DataFrame'>\n",
      "RangeIndex: 3000 entries, 0 to 2999\n",
      "Data columns (total 25 columns):\n",
      " #   Column                  Non-Null Count  Dtype  \n",
      "---  ------                  --------------  -----  \n",
      " 0   ID                      3000 non-null   int64  \n",
      " 1   Name                    3000 non-null   object \n",
      " 2   Age                     3000 non-null   float64\n",
      " 3   Gender                  2999 non-null   object \n",
      " 4   Location                3000 non-null   object \n",
      " 5   School_Grade            3000 non-null   object \n",
      " 6   Daily_Usage_Hours       3000 non-null   float64\n",
      " 7   Sleep_Hours             3000 non-null   float64\n",
      " 8   Academic_Performance    3000 non-null   float64\n",
      " 9   Social_Interactions     3000 non-null   int64  \n",
      " 10  Exercise_Hours          3000 non-null   float64\n",
      " 11  Anxiety_Level           3000 non-null   float64\n",
      " 12  Depression_Level        3000 non-null   float64\n",
      " 13  Self_Esteem             3000 non-null   float64\n",
      " 14  Parental_Control        3000 non-null   object \n",
      " 15  Screen_Time_Before_Bed  3000 non-null   float64\n",
      " 16  Phone_Checks_Per_Day    3000 non-null   object \n",
      " 17  Apps_Used_Daily         3000 non-null   float64\n",
      " 18  Time_on_Social_Media    2999 non-null   float64\n",
      " 19  Time_on_Gaming          2999 non-null   float64\n",
      " 20  Time_on_Education       2998 non-null   float64\n",
      " 21  Phone_Usage_Purpose     2998 non-null   object \n",
      " 22  Family_Communication    2998 non-null   float64\n",
      " 23  Weekend_Usage_Hours     2998 non-null   float64\n",
      " 24  Addiction_Level         2998 non-null   float64\n",
      "dtypes: float64(16), int64(2), object(7)\n",
      "memory usage: 586.1+ KB\n"
     ]
    }
   ],
   "source": [
    "df.info()"
   ]
  },
  {
   "cell_type": "markdown",
   "id": "c73522e7",
   "metadata": {},
   "source": [
    "# one-hot encoding"
   ]
  },
  {
   "cell_type": "code",
   "execution_count": 21,
   "id": "35ddc2cf",
   "metadata": {},
   "outputs": [],
   "source": [
    "df=pd.get_dummies(df,columns=['School_Grade'],prefix='School_Grade',dtype=int)"
   ]
  },
  {
   "cell_type": "code",
   "execution_count": 22,
   "id": "4d5aa370",
   "metadata": {},
   "outputs": [
    {
     "name": "stdout",
     "output_type": "stream",
     "text": [
      "<class 'pandas.core.frame.DataFrame'>\n",
      "RangeIndex: 3000 entries, 0 to 2999\n",
      "Columns: 2962 entries, ID to School_Grade_9th\n",
      "dtypes: float64(9), int64(2950), object(3)\n",
      "memory usage: 67.8+ MB\n"
     ]
    }
   ],
   "source": [
    "df.info()"
   ]
  },
  {
   "cell_type": "markdown",
   "id": "ea6d87a8",
   "metadata": {},
   "source": [
    "# label encoding"
   ]
  },
  {
   "cell_type": "code",
   "execution_count": 23,
   "id": "7e2d1654",
   "metadata": {},
   "outputs": [],
   "source": [
    "from sklearn.preprocessing import LabelEncoder\n",
    "encoder=LabelEncoder()"
   ]
  },
  {
   "cell_type": "code",
   "execution_count": 24,
   "id": "e615f47c",
   "metadata": {},
   "outputs": [
    {
     "data": {
      "text/plain": [
       "3"
      ]
     },
     "execution_count": 24,
     "metadata": {},
     "output_type": "execute_result"
    }
   ],
   "source": [
    "df[\"Gender\"].nunique()"
   ]
  },
  {
   "cell_type": "code",
   "execution_count": 25,
   "id": "cb130770",
   "metadata": {},
   "outputs": [
    {
     "data": {
      "text/plain": [
       "0       Female\n",
       "1       Female\n",
       "2        Other\n",
       "3       Female\n",
       "4        Other\n",
       "         ...  \n",
       "2995    Female\n",
       "2996    Female\n",
       "2997     Other\n",
       "2998    Female\n",
       "2999      Male\n",
       "Name: Gender, Length: 3000, dtype: object"
      ]
     },
     "execution_count": 25,
     "metadata": {},
     "output_type": "execute_result"
    }
   ],
   "source": [
    "df[\"Gender\"]"
   ]
  },
  {
   "cell_type": "code",
   "execution_count": 26,
   "id": "631b6bb7",
   "metadata": {},
   "outputs": [],
   "source": [
    "df['Gender']=encoder.fit_transform(df['Gender'])"
   ]
  },
  {
   "cell_type": "code",
   "execution_count": 27,
   "id": "619cb1d6",
   "metadata": {},
   "outputs": [
    {
     "name": "stdout",
     "output_type": "stream",
     "text": [
      "<class 'pandas.core.frame.DataFrame'>\n",
      "RangeIndex: 3000 entries, 0 to 2999\n",
      "Columns: 2962 entries, ID to School_Grade_9th\n",
      "dtypes: float64(9), int64(2951), object(2)\n",
      "memory usage: 67.8+ MB\n"
     ]
    }
   ],
   "source": [
    "df.info()"
   ]
  },
  {
   "cell_type": "markdown",
   "id": "aca554e6",
   "metadata": {},
   "source": [
    "# frequence encoding"
   ]
  },
  {
   "cell_type": "code",
   "execution_count": 30,
   "id": "c4373df8",
   "metadata": {},
   "outputs": [],
   "source": [
    "freq_encoding=df['Location'].value_counts()\n",
    "df['Location_freq']=df['Location'].map(freq_encoding)"
   ]
  },
  {
   "cell_type": "code",
   "execution_count": 31,
   "id": "f6c614c7",
   "metadata": {},
   "outputs": [
    {
     "name": "stdout",
     "output_type": "stream",
     "text": [
      "<class 'pandas.core.frame.DataFrame'>\n",
      "RangeIndex: 3000 entries, 0 to 2999\n",
      "Columns: 2963 entries, ID to Location_freq\n",
      "dtypes: float64(9), int64(2952), object(2)\n",
      "memory usage: 67.8+ MB\n"
     ]
    }
   ],
   "source": [
    "df.info()"
   ]
  },
  {
   "cell_type": "code",
   "execution_count": 32,
   "id": "76200148",
   "metadata": {},
   "outputs": [],
   "source": [
    "df.drop('Location',axis=1,inplace=True)"
   ]
  },
  {
   "cell_type": "markdown",
   "id": "638bf36d",
   "metadata": {},
   "source": [
    "# Target encoding"
   ]
  },
  {
   "cell_type": "code",
   "execution_count": 15,
   "id": "4c88f616",
   "metadata": {},
   "outputs": [
    {
     "name": "stdout",
     "output_type": "stream",
     "text": [
      "<class 'pandas.core.frame.DataFrame'>\n",
      "RangeIndex: 3000 entries, 0 to 2999\n",
      "Columns: 2957 entries, ID to School_Grade_freq\n",
      "dtypes: float64(9), int64(2946), object(2)\n",
      "memory usage: 67.7+ MB\n"
     ]
    }
   ],
   "source": [
    "df.info()"
   ]
  },
  {
   "cell_type": "code",
   "execution_count": 40,
   "id": "25c57941",
   "metadata": {},
   "outputs": [],
   "source": [
    "target_encoding = df.groupby('Phone_Usage_Purpose')['Sleep_Hours'].mean()\n",
    "df['Phone_Usage_Purpose_target'] = df['Phone_Usage_Purpose'].map(target_encoding)"
   ]
  },
  {
   "cell_type": "markdown",
   "id": "2bee0db3",
   "metadata": {},
   "source": [
    "# Ordinal encoding"
   ]
  },
  {
   "cell_type": "code",
   "execution_count": 41,
   "id": "5af92c04",
   "metadata": {},
   "outputs": [
    {
     "data": {
      "text/plain": [
       "School_Grade\n",
       "12th    529\n",
       "9th     526\n",
       "7th     497\n",
       "10th    487\n",
       "8th     482\n",
       "11th    479\n",
       "Name: count, dtype: int64"
      ]
     },
     "execution_count": 41,
     "metadata": {},
     "output_type": "execute_result"
    }
   ],
   "source": [
    "df['School_Grade'].value_counts()"
   ]
  },
  {
   "cell_type": "code",
   "execution_count": 42,
   "id": "82e4b619",
   "metadata": {},
   "outputs": [],
   "source": [
    "degree_mapping={\n",
    "    \"12th\":0,\n",
    "    \"9th\":1,     \n",
    "    \"7th\":2,    \n",
    "    \"10th\":3,  \n",
    "    \"8th\":4,   \n",
    "    \"11th\":5,\n",
    "}\n",
    "\n",
    "df['School_Grade_ordinal']=df['School_Grade'].map(degree_mapping)"
   ]
  },
  {
   "cell_type": "code",
   "execution_count": 43,
   "id": "ba145b34",
   "metadata": {},
   "outputs": [],
   "source": [
    "df.drop('School_Grade',axis=1,inplace=True)"
   ]
  },
  {
   "cell_type": "code",
   "execution_count": null,
   "id": "ed076847",
   "metadata": {},
   "outputs": [],
   "source": [
    "df.info()"
   ]
  },
  {
   "cell_type": "code",
   "execution_count": 45,
   "id": "ef6dbcce",
   "metadata": {},
   "outputs": [
    {
     "data": {
      "text/plain": [
       "['ID',\n",
       " 'Name',\n",
       " 'Age',\n",
       " 'Gender',\n",
       " 'Location',\n",
       " 'Daily_Usage_Hours',\n",
       " 'Sleep_Hours',\n",
       " 'Academic_Performance',\n",
       " 'Social_Interactions',\n",
       " 'Exercise_Hours',\n",
       " 'Anxiety_Level',\n",
       " 'Depression_Level',\n",
       " 'Self_Esteem',\n",
       " 'Parental_Control',\n",
       " 'Screen_Time_Before_Bed',\n",
       " 'Phone_Checks_Per_Day',\n",
       " 'Apps_Used_Daily',\n",
       " 'Time_on_Social_Media',\n",
       " 'Time_on_Gaming',\n",
       " 'Time_on_Education',\n",
       " 'Phone_Usage_Purpose',\n",
       " 'Family_Communication',\n",
       " 'Weekend_Usage_Hours',\n",
       " 'Addiction_Level',\n",
       " 'Phone_Usage_Purpose_target',\n",
       " 'School_Grade_ordinal']"
      ]
     },
     "execution_count": 45,
     "metadata": {},
     "output_type": "execute_result"
    }
   ],
   "source": [
    "df.columns.tolist()"
   ]
  },
  {
   "cell_type": "code",
   "execution_count": 51,
   "id": "ac3bca3a",
   "metadata": {},
   "outputs": [
    {
     "name": "stderr",
     "output_type": "stream",
     "text": [
      "C:\\Users\\User\\AppData\\Local\\Temp\\ipykernel_58228\\3376033571.py:4: FutureWarning: A value is trying to be set on a copy of a DataFrame or Series through chained assignment using an inplace method.\n",
      "The behavior will change in pandas 3.0. This inplace method will never work because the intermediate object on which we are setting values always behaves as a copy.\n",
      "\n",
      "For example, when doing 'df[col].method(value, inplace=True)', try using 'df.method({col: value}, inplace=True)' or df[col] = df[col].method(value) instead, to perform the operation inplace on the original object.\n",
      "\n",
      "\n",
      "  df[col].fillna(df[col].mode()[0], inplace=True)\n",
      "C:\\Users\\User\\AppData\\Local\\Temp\\ipykernel_58228\\3376033571.py:6: FutureWarning: A value is trying to be set on a copy of a DataFrame or Series through chained assignment using an inplace method.\n",
      "The behavior will change in pandas 3.0. This inplace method will never work because the intermediate object on which we are setting values always behaves as a copy.\n",
      "\n",
      "For example, when doing 'df[col].method(value, inplace=True)', try using 'df.method({col: value}, inplace=True)' or df[col] = df[col].method(value) instead, to perform the operation inplace on the original object.\n",
      "\n",
      "\n",
      "  df[col].fillna(df[col].mean(), inplace=True)\n"
     ]
    }
   ],
   "source": [
    "for col in df.columns:\n",
    "    if df[col].isnull().any():\n",
    "        if df[col].dtype==\"object\":\n",
    "            df[col].fillna(df[col].mode()[0], inplace=True)\n",
    "        else:\n",
    "            df[col].fillna(df[col].mean(), inplace=True)"
   ]
  },
  {
   "cell_type": "code",
   "execution_count": 52,
   "id": "1062e4dc",
   "metadata": {},
   "outputs": [
    {
     "name": "stdout",
     "output_type": "stream",
     "text": [
      "<class 'pandas.core.frame.DataFrame'>\n",
      "RangeIndex: 3000 entries, 0 to 2999\n",
      "Data columns (total 25 columns):\n",
      " #   Column                  Non-Null Count  Dtype  \n",
      "---  ------                  --------------  -----  \n",
      " 0   ID                      3000 non-null   int64  \n",
      " 1   Name                    3000 non-null   object \n",
      " 2   Age                     3000 non-null   float64\n",
      " 3   Gender                  3000 non-null   object \n",
      " 4   Location                3000 non-null   object \n",
      " 5   School_Grade            3000 non-null   object \n",
      " 6   Daily_Usage_Hours       3000 non-null   float64\n",
      " 7   Sleep_Hours             3000 non-null   float64\n",
      " 8   Academic_Performance    3000 non-null   float64\n",
      " 9   Social_Interactions     3000 non-null   int64  \n",
      " 10  Exercise_Hours          3000 non-null   float64\n",
      " 11  Anxiety_Level           3000 non-null   float64\n",
      " 12  Depression_Level        3000 non-null   float64\n",
      " 13  Self_Esteem             3000 non-null   float64\n",
      " 14  Parental_Control        3000 non-null   object \n",
      " 15  Screen_Time_Before_Bed  3000 non-null   float64\n",
      " 16  Phone_Checks_Per_Day    3000 non-null   object \n",
      " 17  Apps_Used_Daily         3000 non-null   float64\n",
      " 18  Time_on_Social_Media    3000 non-null   float64\n",
      " 19  Time_on_Gaming          3000 non-null   float64\n",
      " 20  Time_on_Education       3000 non-null   float64\n",
      " 21  Phone_Usage_Purpose     3000 non-null   object \n",
      " 22  Family_Communication    3000 non-null   float64\n",
      " 23  Weekend_Usage_Hours     3000 non-null   float64\n",
      " 24  Addiction_Level         3000 non-null   float64\n",
      "dtypes: float64(16), int64(2), object(7)\n",
      "memory usage: 586.1+ KB\n"
     ]
    }
   ],
   "source": [
    "df.info()"
   ]
  }
 ],
 "metadata": {
  "kernelspec": {
   "display_name": "dars_7",
   "language": "python",
   "name": "python3"
  },
  "language_info": {
   "codemirror_mode": {
    "name": "ipython",
    "version": 3
   },
   "file_extension": ".py",
   "mimetype": "text/x-python",
   "name": "python",
   "nbconvert_exporter": "python",
   "pygments_lexer": "ipython3",
   "version": "3.10.17"
  }
 },
 "nbformat": 4,
 "nbformat_minor": 5
}
