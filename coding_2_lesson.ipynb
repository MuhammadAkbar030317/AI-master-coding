{
 "cells": [
  {
   "cell_type": "markdown",
   "id": "53138c85",
   "metadata": {},
   "source": [
    "# Vazifalar"
   ]
  },
  {
   "cell_type": "code",
   "execution_count": 1,
   "id": "fed2daf8",
   "metadata": {},
   "outputs": [
    {
     "name": "stdout",
     "output_type": "stream",
     "text": [
      "Istalgan 3 ta sonning yig'indisi 5 ga teng\n"
     ]
    }
   ],
   "source": [
    "#Istalgan 3 ta sonni yigindisini toping\n",
    "a=int(input(\"Ixtiyoriy birinchi sonni kiriting -> \"))\n",
    "b=int(input(\"Ixtiyoriy ikkinchi sonni kiriting -> \"))\n",
    "c=int(input(\"Ixtiyoriy uchinchi sonni kiriting -> \"))\n",
    "print(\"Istalgan 3 ta sonning yig'indisi\", a+b+c,\"ga teng\")"
   ]
  },
  {
   "cell_type": "code",
   "execution_count": 5,
   "id": "78ff04a6",
   "metadata": {},
   "outputs": [
    {
     "name": "stdout",
     "output_type": "stream",
     "text": [
      "Muha\n",
      "bar\n",
      "ammad A\n"
     ]
    }
   ],
   "source": [
    "#Berilgan so'zni dastlabki 4 ta xarfini ekranga chiqaring\n",
    "ism = \"Muhammad Akbar\"\n",
    "print(ism[ : 4])\n",
    "# Berilgan so'zni oxirgi 3 ta xarfini ekranga chiqaring\n",
    "print(ism[-3:])\n",
    "# Berilgan sozni 3 va 9 xarflari orasidagi xarflarini toping\n",
    "print(ism[3:10])"
   ]
  },
  {
   "cell_type": "code",
   "execution_count": 7,
   "id": "e3a5fa5c",
   "metadata": {},
   "outputs": [
    {
     "name": "stdout",
     "output_type": "stream",
     "text": [
      "Siz kiritgan 3 soninig 4-darajasi 81ga teng\n"
     ]
    }
   ],
   "source": [
    "#Istalgan sonni istalgan darasini toping\n",
    "son=int(input(\"Ixtiyoriy sonni kiriting ->\"))\n",
    "daraja=int(input(\"Kiritgan soningizning nechanchi darajasini topishni istaysiz? ->\"))\n",
    "natija=son**daraja\n",
    "print(f\"Siz kiritgan {son} soninig {daraja}-darajasi {natija}ga teng\")"
   ]
  }
 ],
 "metadata": {
  "kernelspec": {
   "display_name": "dars_7",
   "language": "python",
   "name": "python3"
  },
  "language_info": {
   "codemirror_mode": {
    "name": "ipython",
    "version": 3
   },
   "file_extension": ".py",
   "mimetype": "text/x-python",
   "name": "python",
   "nbconvert_exporter": "python",
   "pygments_lexer": "ipython3",
   "version": "3.10.17"
  }
 },
 "nbformat": 4,
 "nbformat_minor": 5
}
