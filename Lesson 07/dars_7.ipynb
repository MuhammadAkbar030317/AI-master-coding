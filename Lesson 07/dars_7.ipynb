{
 "cells": [
  {
   "cell_type": "markdown",
   "id": "925e8496",
   "metadata": {},
   "source": [
    "# dars(7)"
   ]
  },
  {
   "cell_type": "code",
   "execution_count": 7,
   "id": "5a59bb13",
   "metadata": {},
   "outputs": [],
   "source": [
    "import pandas as pd\n",
    "df=pd.read_csv(\"C:/Users/User/Downloads/Telegram Desktop/IMDB_Movies_Dataset.csv\")"
   ]
  },
  {
   "cell_type": "code",
   "execution_count": 8,
   "id": "846f3d18",
   "metadata": {},
   "outputs": [
    {
     "name": "stdout",
     "output_type": "stream",
     "text": [
      "<class 'pandas.core.frame.DataFrame'>\n",
      "RangeIndex: 4991 entries, 0 to 4990\n",
      "Data columns (total 15 columns):\n",
      " #   Column             Non-Null Count  Dtype  \n",
      "---  ------             --------------  -----  \n",
      " 0   Unnamed: 0         4991 non-null   object \n",
      " 1   Title              4991 non-null   object \n",
      " 2   Average Rating     4989 non-null   float64\n",
      " 3   Director           4991 non-null   object \n",
      " 4   Writer             4990 non-null   object \n",
      " 5   Metascore          3057 non-null   float64\n",
      " 6   Cast               4984 non-null   object \n",
      " 7   Release Date       4991 non-null   object \n",
      " 8   Country of Origin  4988 non-null   object \n",
      " 9   Languages          4970 non-null   object \n",
      " 10  Budget             2653 non-null   object \n",
      " 11  Worldwide Gross    3897 non-null   object \n",
      " 12  Runtime            4991 non-null   object \n",
      " 13  Writer.1           4990 non-null   object \n",
      " 14  Average Rating.1   4991 non-null   float64\n",
      "dtypes: float64(3), object(12)\n",
      "memory usage: 585.0+ KB\n"
     ]
    }
   ],
   "source": [
    "df.info()"
   ]
  },
  {
   "cell_type": "code",
   "execution_count": 9,
   "id": "8af43b87",
   "metadata": {},
   "outputs": [
    {
     "data": {
      "text/html": [
       "<div>\n",
       "<style scoped>\n",
       "    .dataframe tbody tr th:only-of-type {\n",
       "        vertical-align: middle;\n",
       "    }\n",
       "\n",
       "    .dataframe tbody tr th {\n",
       "        vertical-align: top;\n",
       "    }\n",
       "\n",
       "    .dataframe thead th {\n",
       "        text-align: right;\n",
       "    }\n",
       "</style>\n",
       "<table border=\"1\" class=\"dataframe\">\n",
       "  <thead>\n",
       "    <tr style=\"text-align: right;\">\n",
       "      <th></th>\n",
       "      <th>Unnamed: 0</th>\n",
       "      <th>Title</th>\n",
       "      <th>Average Rating</th>\n",
       "      <th>Director</th>\n",
       "      <th>Writer</th>\n",
       "      <th>Metascore</th>\n",
       "      <th>Cast</th>\n",
       "      <th>Release Date</th>\n",
       "      <th>Country of Origin</th>\n",
       "      <th>Languages</th>\n",
       "      <th>Budget</th>\n",
       "      <th>Worldwide Gross</th>\n",
       "      <th>Runtime</th>\n",
       "      <th>Writer.1</th>\n",
       "      <th>Average Rating.1</th>\n",
       "    </tr>\n",
       "  </thead>\n",
       "  <tbody>\n",
       "    <tr>\n",
       "      <th>0</th>\n",
       "      <td>0</td>\n",
       "      <td>The Shawshank Redemption</td>\n",
       "      <td>9.3</td>\n",
       "      <td>Frank Darabont</td>\n",
       "      <td>Stephen King, Frank Darabont</td>\n",
       "      <td>82.0</td>\n",
       "      <td>Tim Robbins, Morgan Freeman, Bob Gunton, Willi...</td>\n",
       "      <td>October 14, 1994 (India)</td>\n",
       "      <td>United States</td>\n",
       "      <td>English</td>\n",
       "      <td>$25,000,000 (estimated)</td>\n",
       "      <td>$29,332,133</td>\n",
       "      <td>2 hours 22 minutes</td>\n",
       "      <td>Stephen King, Frank Darabont</td>\n",
       "      <td>9.3</td>\n",
       "    </tr>\n",
       "    <tr>\n",
       "      <th>1</th>\n",
       "      <td>1</td>\n",
       "      <td>Attack on Titan the Movie: The Last Attack</td>\n",
       "      <td>9.3</td>\n",
       "      <td>Yûichirô Hayashi</td>\n",
       "      <td>Natsuki Hanae, Yoshimasa Hosoya, Marina Inoue</td>\n",
       "      <td>NaN</td>\n",
       "      <td>Natsuki Hanae, Yoshimasa Hosoya, Marina Inoue,...</td>\n",
       "      <td>November 8, 2024 (Japan)</td>\n",
       "      <td>Japan</td>\n",
       "      <td>Japanese</td>\n",
       "      <td>NaN</td>\n",
       "      <td>$3,513,659</td>\n",
       "      <td>2 hours 25 minutes</td>\n",
       "      <td>Natsuki Hanae, Yoshimasa Hosoya, Marina Inoue</td>\n",
       "      <td>9.3</td>\n",
       "    </tr>\n",
       "    <tr>\n",
       "      <th>2</th>\n",
       "      <td>2</td>\n",
       "      <td>The Godfather</td>\n",
       "      <td>9.2</td>\n",
       "      <td>Francis Ford Coppola</td>\n",
       "      <td>Mario Puzo, Francis Ford Coppola</td>\n",
       "      <td>100.0</td>\n",
       "      <td>Marlon Brando, Al Pacino, James Caan, Diane Ke...</td>\n",
       "      <td>1978 (India)</td>\n",
       "      <td>United States</td>\n",
       "      <td>English, Italian, Latin</td>\n",
       "      <td>$6,000,000 (estimated)</td>\n",
       "      <td>$250,342,198</td>\n",
       "      <td>2 hours 55 minutes</td>\n",
       "      <td>Mario Puzo, Francis Ford Coppola</td>\n",
       "      <td>9.2</td>\n",
       "    </tr>\n",
       "    <tr>\n",
       "      <th>3</th>\n",
       "      <td>3</td>\n",
       "      <td>Hababam Sinifi</td>\n",
       "      <td>9.2</td>\n",
       "      <td>Ertem Egilmez</td>\n",
       "      <td>Umur Bugay, Rifat Ilgaz</td>\n",
       "      <td>NaN</td>\n",
       "      <td>Münir Özkul, Tarik Akan, Halit Akçatepe, Kemal...</td>\n",
       "      <td>April 1, 1975 (Turkey)</td>\n",
       "      <td>Turkey</td>\n",
       "      <td>Turkish</td>\n",
       "      <td>NaN</td>\n",
       "      <td>NaN</td>\n",
       "      <td>1 hour 25 minutes</td>\n",
       "      <td>Umur Bugay, Rifat Ilgaz</td>\n",
       "      <td>9.2</td>\n",
       "    </tr>\n",
       "    <tr>\n",
       "      <th>4</th>\n",
       "      <td>4</td>\n",
       "      <td>Ramayana: The Legend of Prince Rama</td>\n",
       "      <td>9.2</td>\n",
       "      <td>Ram Mohan, Yûgô Sakô, Koichi Saski</td>\n",
       "      <td>Rani Burra, Ram Mohan, Yûgô Sakô</td>\n",
       "      <td>NaN</td>\n",
       "      <td>Arun Govil, Nikhil Kapoor, Edie Mirman, Rael P...</td>\n",
       "      <td>September 25, 2001 (India)</td>\n",
       "      <td>India, Japan</td>\n",
       "      <td>English</td>\n",
       "      <td>NaN</td>\n",
       "      <td>NaN</td>\n",
       "      <td>2 hours 15 minutes</td>\n",
       "      <td>Rani Burra, Ram Mohan, Yûgô Sakô</td>\n",
       "      <td>9.2</td>\n",
       "    </tr>\n",
       "  </tbody>\n",
       "</table>\n",
       "</div>"
      ],
      "text/plain": [
       "  Unnamed: 0                                       Title  Average Rating  \\\n",
       "0          0                    The Shawshank Redemption             9.3   \n",
       "1          1  Attack on Titan the Movie: The Last Attack             9.3   \n",
       "2          2                               The Godfather             9.2   \n",
       "3          3                              Hababam Sinifi             9.2   \n",
       "4          4         Ramayana: The Legend of Prince Rama             9.2   \n",
       "\n",
       "                             Director  \\\n",
       "0                      Frank Darabont   \n",
       "1                    Yûichirô Hayashi   \n",
       "2                Francis Ford Coppola   \n",
       "3                       Ertem Egilmez   \n",
       "4  Ram Mohan, Yûgô Sakô, Koichi Saski   \n",
       "\n",
       "                                          Writer  Metascore  \\\n",
       "0                   Stephen King, Frank Darabont       82.0   \n",
       "1  Natsuki Hanae, Yoshimasa Hosoya, Marina Inoue        NaN   \n",
       "2               Mario Puzo, Francis Ford Coppola      100.0   \n",
       "3                        Umur Bugay, Rifat Ilgaz        NaN   \n",
       "4               Rani Burra, Ram Mohan, Yûgô Sakô        NaN   \n",
       "\n",
       "                                                Cast  \\\n",
       "0  Tim Robbins, Morgan Freeman, Bob Gunton, Willi...   \n",
       "1  Natsuki Hanae, Yoshimasa Hosoya, Marina Inoue,...   \n",
       "2  Marlon Brando, Al Pacino, James Caan, Diane Ke...   \n",
       "3  Münir Özkul, Tarik Akan, Halit Akçatepe, Kemal...   \n",
       "4  Arun Govil, Nikhil Kapoor, Edie Mirman, Rael P...   \n",
       "\n",
       "                 Release Date Country of Origin                Languages  \\\n",
       "0    October 14, 1994 (India)     United States                  English   \n",
       "1    November 8, 2024 (Japan)             Japan                 Japanese   \n",
       "2                1978 (India)     United States  English, Italian, Latin   \n",
       "3      April 1, 1975 (Turkey)            Turkey                  Turkish   \n",
       "4  September 25, 2001 (India)      India, Japan                  English   \n",
       "\n",
       "                    Budget Worldwide Gross             Runtime  \\\n",
       "0  $25,000,000 (estimated)     $29,332,133  2 hours 22 minutes   \n",
       "1                      NaN      $3,513,659  2 hours 25 minutes   \n",
       "2   $6,000,000 (estimated)    $250,342,198  2 hours 55 minutes   \n",
       "3                      NaN             NaN   1 hour 25 minutes   \n",
       "4                      NaN             NaN  2 hours 15 minutes   \n",
       "\n",
       "                                        Writer.1  Average Rating.1  \n",
       "0                   Stephen King, Frank Darabont               9.3  \n",
       "1  Natsuki Hanae, Yoshimasa Hosoya, Marina Inoue               9.3  \n",
       "2               Mario Puzo, Francis Ford Coppola               9.2  \n",
       "3                        Umur Bugay, Rifat Ilgaz               9.2  \n",
       "4               Rani Burra, Ram Mohan, Yûgô Sakô               9.2  "
      ]
     },
     "execution_count": 9,
     "metadata": {},
     "output_type": "execute_result"
    }
   ],
   "source": [
    "df.head()"
   ]
  },
  {
   "cell_type": "code",
   "execution_count": 12,
   "id": "3375e6b7",
   "metadata": {},
   "outputs": [
    {
     "data": {
      "text/plain": [
       "0       $25,000,000 (estimated)\n",
       "1                           NaN\n",
       "2        $6,000,000 (estimated)\n",
       "3                           NaN\n",
       "4                           NaN\n",
       "                 ...           \n",
       "4986                        NaN\n",
       "4987     €7,000,000 (estimated)\n",
       "4988                        NaN\n",
       "4989    $25,000,000 (estimated)\n",
       "4990    $25,000,000 (estimated)\n",
       "Name: Budget, Length: 4991, dtype: object"
      ]
     },
     "execution_count": 12,
     "metadata": {},
     "output_type": "execute_result"
    }
   ],
   "source": [
    "df[\"Budget\"]"
   ]
  },
  {
   "cell_type": "code",
   "execution_count": 14,
   "id": "3c8b7dd5",
   "metadata": {},
   "outputs": [],
   "source": [
    "df[\"Budget\"]=df[\"Budget\"].str.replace(r'[^\\d.]','',regex=True).astype(float)"
   ]
  },
  {
   "cell_type": "code",
   "execution_count": null,
   "id": "71f931fb",
   "metadata": {},
   "outputs": [
    {
     "data": {
      "text/plain": [
       "0       25000000.0\n",
       "1              NaN\n",
       "2        6000000.0\n",
       "3              NaN\n",
       "4              NaN\n",
       "           ...    \n",
       "4986           NaN\n",
       "4987     7000000.0\n",
       "4988           NaN\n",
       "4989    25000000.0\n",
       "4990    25000000.0\n",
       "Name: Budget, Length: 4991, dtype: float64"
      ]
     },
     "execution_count": 15,
     "metadata": {},
     "output_type": "execute_result"
    }
   ],
   "source": [
    "df[\"Budget\"]"
   ]
  },
  {
   "cell_type": "code",
   "execution_count": 16,
   "id": "ec445b72",
   "metadata": {},
   "outputs": [
    {
     "name": "stdout",
     "output_type": "stream",
     "text": [
      "<class 'pandas.core.frame.DataFrame'>\n",
      "RangeIndex: 4991 entries, 0 to 4990\n",
      "Data columns (total 15 columns):\n",
      " #   Column             Non-Null Count  Dtype  \n",
      "---  ------             --------------  -----  \n",
      " 0   Unnamed: 0         4991 non-null   object \n",
      " 1   Title              4991 non-null   object \n",
      " 2   Average Rating     4989 non-null   float64\n",
      " 3   Director           4991 non-null   object \n",
      " 4   Writer             4990 non-null   object \n",
      " 5   Metascore          3057 non-null   float64\n",
      " 6   Cast               4984 non-null   object \n",
      " 7   Release Date       4991 non-null   object \n",
      " 8   Country of Origin  4988 non-null   object \n",
      " 9   Languages          4970 non-null   object \n",
      " 10  Budget             2653 non-null   float64\n",
      " 11  Worldwide Gross    3897 non-null   object \n",
      " 12  Runtime            4991 non-null   object \n",
      " 13  Writer.1           4990 non-null   object \n",
      " 14  Average Rating.1   4991 non-null   float64\n",
      "dtypes: float64(4), object(11)\n",
      "memory usage: 585.0+ KB\n"
     ]
    }
   ],
   "source": [
    "df.info()"
   ]
  },
  {
   "cell_type": "code",
   "execution_count": 17,
   "id": "76bdfa6a",
   "metadata": {},
   "outputs": [],
   "source": [
    "df[\"Runtime\"]=df[\"Runtime\"].str.replace(r'[^\\d.]','', regex=True).astype(float)"
   ]
  },
  {
   "cell_type": "code",
   "execution_count": 18,
   "id": "4b694e65",
   "metadata": {},
   "outputs": [
    {
     "data": {
      "text/plain": [
       "0       222.0\n",
       "1       225.0\n",
       "2       255.0\n",
       "3       125.0\n",
       "4       215.0\n",
       "        ...  \n",
       "4986    213.0\n",
       "4987    130.0\n",
       "4988    153.0\n",
       "4989    222.0\n",
       "4990    222.0\n",
       "Name: Runtime, Length: 4991, dtype: float64"
      ]
     },
     "execution_count": 18,
     "metadata": {},
     "output_type": "execute_result"
    }
   ],
   "source": [
    "df[\"Runtime\"]"
   ]
  },
  {
   "cell_type": "code",
   "execution_count": 19,
   "id": "3f70b68e",
   "metadata": {},
   "outputs": [
    {
     "data": {
      "text/plain": [
       "0       False\n",
       "1       False\n",
       "2       False\n",
       "3       False\n",
       "4       False\n",
       "        ...  \n",
       "4986    False\n",
       "4987    False\n",
       "4988    False\n",
       "4989     True\n",
       "4990     True\n",
       "Length: 4991, dtype: bool"
      ]
     },
     "execution_count": 19,
     "metadata": {},
     "output_type": "execute_result"
    }
   ],
   "source": [
    "df.duplicated()"
   ]
  },
  {
   "cell_type": "code",
   "execution_count": 20,
   "id": "1c080312",
   "metadata": {},
   "outputs": [
    {
     "data": {
      "text/plain": [
       "np.int64(2)"
      ]
     },
     "execution_count": 20,
     "metadata": {},
     "output_type": "execute_result"
    }
   ],
   "source": [
    "df.duplicated().sum()"
   ]
  },
  {
   "cell_type": "code",
   "execution_count": 21,
   "id": "ce2acd1e",
   "metadata": {},
   "outputs": [
    {
     "data": {
      "text/html": [
       "<div>\n",
       "<style scoped>\n",
       "    .dataframe tbody tr th:only-of-type {\n",
       "        vertical-align: middle;\n",
       "    }\n",
       "\n",
       "    .dataframe tbody tr th {\n",
       "        vertical-align: top;\n",
       "    }\n",
       "\n",
       "    .dataframe thead th {\n",
       "        text-align: right;\n",
       "    }\n",
       "</style>\n",
       "<table border=\"1\" class=\"dataframe\">\n",
       "  <thead>\n",
       "    <tr style=\"text-align: right;\">\n",
       "      <th></th>\n",
       "      <th>Unnamed: 0</th>\n",
       "      <th>Title</th>\n",
       "      <th>Average Rating</th>\n",
       "      <th>Director</th>\n",
       "      <th>Writer</th>\n",
       "      <th>Metascore</th>\n",
       "      <th>Cast</th>\n",
       "      <th>Release Date</th>\n",
       "      <th>Country of Origin</th>\n",
       "      <th>Languages</th>\n",
       "      <th>Budget</th>\n",
       "      <th>Worldwide Gross</th>\n",
       "      <th>Runtime</th>\n",
       "      <th>Writer.1</th>\n",
       "      <th>Average Rating.1</th>\n",
       "    </tr>\n",
       "  </thead>\n",
       "  <tbody>\n",
       "    <tr>\n",
       "      <th>4989</th>\n",
       "      <td>0</td>\n",
       "      <td>The Shawshank Redemption</td>\n",
       "      <td>9.3</td>\n",
       "      <td>Frank Darabont</td>\n",
       "      <td>Stephen King, Frank Darabont</td>\n",
       "      <td>82.0</td>\n",
       "      <td>Tim Robbins, Morgan Freeman, Bob Gunton, Willi...</td>\n",
       "      <td>October 14, 1994 (India)</td>\n",
       "      <td>United States</td>\n",
       "      <td>English</td>\n",
       "      <td>25000000.0</td>\n",
       "      <td>$29,332,133</td>\n",
       "      <td>222.0</td>\n",
       "      <td>Stephen King, Frank Darabont</td>\n",
       "      <td>9.3</td>\n",
       "    </tr>\n",
       "    <tr>\n",
       "      <th>4990</th>\n",
       "      <td>0</td>\n",
       "      <td>The Shawshank Redemption</td>\n",
       "      <td>9.3</td>\n",
       "      <td>Frank Darabont</td>\n",
       "      <td>Stephen King, Frank Darabont</td>\n",
       "      <td>82.0</td>\n",
       "      <td>Tim Robbins, Morgan Freeman, Bob Gunton, Willi...</td>\n",
       "      <td>October 14, 1994 (India)</td>\n",
       "      <td>United States</td>\n",
       "      <td>English</td>\n",
       "      <td>25000000.0</td>\n",
       "      <td>$29,332,133</td>\n",
       "      <td>222.0</td>\n",
       "      <td>Stephen King, Frank Darabont</td>\n",
       "      <td>9.3</td>\n",
       "    </tr>\n",
       "  </tbody>\n",
       "</table>\n",
       "</div>"
      ],
      "text/plain": [
       "     Unnamed: 0                     Title  Average Rating        Director  \\\n",
       "4989          0  The Shawshank Redemption             9.3  Frank Darabont   \n",
       "4990          0  The Shawshank Redemption             9.3  Frank Darabont   \n",
       "\n",
       "                            Writer  Metascore  \\\n",
       "4989  Stephen King, Frank Darabont       82.0   \n",
       "4990  Stephen King, Frank Darabont       82.0   \n",
       "\n",
       "                                                   Cast  \\\n",
       "4989  Tim Robbins, Morgan Freeman, Bob Gunton, Willi...   \n",
       "4990  Tim Robbins, Morgan Freeman, Bob Gunton, Willi...   \n",
       "\n",
       "                  Release Date Country of Origin Languages      Budget  \\\n",
       "4989  October 14, 1994 (India)     United States   English  25000000.0   \n",
       "4990  October 14, 1994 (India)     United States   English  25000000.0   \n",
       "\n",
       "     Worldwide Gross  Runtime                      Writer.1  Average Rating.1  \n",
       "4989     $29,332,133    222.0  Stephen King, Frank Darabont               9.3  \n",
       "4990     $29,332,133    222.0  Stephen King, Frank Darabont               9.3  "
      ]
     },
     "execution_count": 21,
     "metadata": {},
     "output_type": "execute_result"
    }
   ],
   "source": [
    "df[df.duplicated()]"
   ]
  },
  {
   "cell_type": "code",
   "execution_count": 23,
   "id": "6e225e0d",
   "metadata": {},
   "outputs": [],
   "source": [
    "df=df.drop_duplicates()"
   ]
  },
  {
   "cell_type": "code",
   "execution_count": 24,
   "id": "59d01577",
   "metadata": {},
   "outputs": [
    {
     "data": {
      "text/plain": [
       "np.int64(0)"
      ]
     },
     "execution_count": 24,
     "metadata": {},
     "output_type": "execute_result"
    }
   ],
   "source": [
    "df.duplicated().sum()"
   ]
  },
  {
   "cell_type": "code",
   "execution_count": 26,
   "id": "e1962553",
   "metadata": {},
   "outputs": [
    {
     "data": {
      "text/html": [
       "<div>\n",
       "<style scoped>\n",
       "    .dataframe tbody tr th:only-of-type {\n",
       "        vertical-align: middle;\n",
       "    }\n",
       "\n",
       "    .dataframe tbody tr th {\n",
       "        vertical-align: top;\n",
       "    }\n",
       "\n",
       "    .dataframe thead th {\n",
       "        text-align: right;\n",
       "    }\n",
       "</style>\n",
       "<table border=\"1\" class=\"dataframe\">\n",
       "  <thead>\n",
       "    <tr style=\"text-align: right;\">\n",
       "      <th></th>\n",
       "      <th>Unnamed: 0</th>\n",
       "      <th>Title</th>\n",
       "      <th>Average Rating</th>\n",
       "      <th>Director</th>\n",
       "      <th>Writer</th>\n",
       "      <th>Metascore</th>\n",
       "      <th>Cast</th>\n",
       "      <th>Release Date</th>\n",
       "      <th>Country of Origin</th>\n",
       "      <th>Languages</th>\n",
       "      <th>Budget</th>\n",
       "      <th>Worldwide Gross</th>\n",
       "      <th>Runtime</th>\n",
       "      <th>Writer.1</th>\n",
       "      <th>Average Rating.1</th>\n",
       "    </tr>\n",
       "  </thead>\n",
       "  <tbody>\n",
       "  </tbody>\n",
       "</table>\n",
       "</div>"
      ],
      "text/plain": [
       "Empty DataFrame\n",
       "Columns: [Unnamed: 0, Title, Average Rating, Director, Writer, Metascore, Cast, Release Date, Country of Origin, Languages, Budget, Worldwide Gross, Runtime, Writer.1, Average Rating.1]\n",
       "Index: []"
      ]
     },
     "execution_count": 26,
     "metadata": {},
     "output_type": "execute_result"
    }
   ],
   "source": [
    "df[df.duplicated()]"
   ]
  },
  {
   "cell_type": "code",
   "execution_count": 27,
   "id": "e06e922e",
   "metadata": {},
   "outputs": [
    {
     "data": {
      "text/plain": [
       "Unnamed: 0           False\n",
       "Title                False\n",
       "Average Rating       False\n",
       "Director             False\n",
       "Writer               False\n",
       "Metascore            False\n",
       "Cast                 False\n",
       "Release Date         False\n",
       "Country of Origin    False\n",
       "Languages            False\n",
       "Budget               False\n",
       "Worldwide Gross      False\n",
       "Runtime              False\n",
       "Writer.1              True\n",
       "Average Rating.1     False\n",
       "dtype: bool"
      ]
     },
     "execution_count": 27,
     "metadata": {},
     "output_type": "execute_result"
    }
   ],
   "source": [
    "df.T.duplicated()"
   ]
  },
  {
   "cell_type": "code",
   "execution_count": 28,
   "id": "fac60904",
   "metadata": {},
   "outputs": [
    {
     "data": {
      "text/plain": [
       "np.int64(1)"
      ]
     },
     "execution_count": 28,
     "metadata": {},
     "output_type": "execute_result"
    }
   ],
   "source": [
    "df.T.duplicated().sum()"
   ]
  },
  {
   "cell_type": "code",
   "execution_count": 30,
   "id": "b821cd11",
   "metadata": {},
   "outputs": [
    {
     "data": {
      "text/html": [
       "<div>\n",
       "<style scoped>\n",
       "    .dataframe tbody tr th:only-of-type {\n",
       "        vertical-align: middle;\n",
       "    }\n",
       "\n",
       "    .dataframe tbody tr th {\n",
       "        vertical-align: top;\n",
       "    }\n",
       "\n",
       "    .dataframe thead th {\n",
       "        text-align: right;\n",
       "    }\n",
       "</style>\n",
       "<table border=\"1\" class=\"dataframe\">\n",
       "  <thead>\n",
       "    <tr style=\"text-align: right;\">\n",
       "      <th></th>\n",
       "      <th>0</th>\n",
       "      <th>1</th>\n",
       "      <th>2</th>\n",
       "      <th>3</th>\n",
       "      <th>4</th>\n",
       "      <th>5</th>\n",
       "      <th>6</th>\n",
       "      <th>7</th>\n",
       "      <th>8</th>\n",
       "      <th>9</th>\n",
       "      <th>...</th>\n",
       "      <th>4979</th>\n",
       "      <th>4980</th>\n",
       "      <th>4981</th>\n",
       "      <th>4982</th>\n",
       "      <th>4983</th>\n",
       "      <th>4984</th>\n",
       "      <th>4985</th>\n",
       "      <th>4986</th>\n",
       "      <th>4987</th>\n",
       "      <th>4988</th>\n",
       "    </tr>\n",
       "  </thead>\n",
       "  <tbody>\n",
       "    <tr>\n",
       "      <th>Writer.1</th>\n",
       "      <td>Stephen King, Frank Darabont</td>\n",
       "      <td>Natsuki Hanae, Yoshimasa Hosoya, Marina Inoue</td>\n",
       "      <td>Mario Puzo, Francis Ford Coppola</td>\n",
       "      <td>Umur Bugay, Rifat Ilgaz</td>\n",
       "      <td>Rani Burra, Ram Mohan, Yûgô Sakô</td>\n",
       "      <td>Suzanne Bernert</td>\n",
       "      <td>Pingali Nagendra Rao, Kadiri Venkata Reddy</td>\n",
       "      <td>Jonathan Nolan, Christopher Nolan, David S. Goyer</td>\n",
       "      <td>Thomas Keneally, Steven Zaillian</td>\n",
       "      <td>Reginald Rose</td>\n",
       "      <td>...</td>\n",
       "      <td>Leila Conners, Nadia Conners, Leonardo DiCaprio</td>\n",
       "      <td>Samuel Maoz</td>\n",
       "      <td>Hiroyuki Yamaga, Hiroshi Ônogi</td>\n",
       "      <td>Mahesh Bhatt, Girish Dhamija, Anurag Basu</td>\n",
       "      <td>Nuran Evren Sit</td>\n",
       "      <td>Jorge Guerricaechevarría, Álex de la Iglesia</td>\n",
       "      <td>Roy Chanslor, Arthur Conan Doyle</td>\n",
       "      <td>Hiroshi Takahashi, Shôgo Mutô</td>\n",
       "      <td>Ruben Alves, Luc-Olivier Veuve, Jean-André Yerlès</td>\n",
       "      <td>Kwak Kyung-taek</td>\n",
       "    </tr>\n",
       "  </tbody>\n",
       "</table>\n",
       "<p>1 rows × 4989 columns</p>\n",
       "</div>"
      ],
      "text/plain": [
       "                                  0     \\\n",
       "Writer.1  Stephen King, Frank Darabont   \n",
       "\n",
       "                                                   1     \\\n",
       "Writer.1  Natsuki Hanae, Yoshimasa Hosoya, Marina Inoue   \n",
       "\n",
       "                                      2                        3     \\\n",
       "Writer.1  Mario Puzo, Francis Ford Coppola  Umur Bugay, Rifat Ilgaz   \n",
       "\n",
       "                                      4                5     \\\n",
       "Writer.1  Rani Burra, Ram Mohan, Yûgô Sakô  Suzanne Bernert   \n",
       "\n",
       "                                                6     \\\n",
       "Writer.1  Pingali Nagendra Rao, Kadiri Venkata Reddy   \n",
       "\n",
       "                                                       7     \\\n",
       "Writer.1  Jonathan Nolan, Christopher Nolan, David S. Goyer   \n",
       "\n",
       "                                      8              9     ...  \\\n",
       "Writer.1  Thomas Keneally, Steven Zaillian  Reginald Rose  ...   \n",
       "\n",
       "                                                     4979         4980  \\\n",
       "Writer.1  Leila Conners, Nadia Conners, Leonardo DiCaprio  Samuel Maoz   \n",
       "\n",
       "                                    4981  \\\n",
       "Writer.1  Hiroyuki Yamaga, Hiroshi Ônogi   \n",
       "\n",
       "                                               4982             4983  \\\n",
       "Writer.1  Mahesh Bhatt, Girish Dhamija, Anurag Basu  Nuran Evren Sit   \n",
       "\n",
       "                                                  4984  \\\n",
       "Writer.1  Jorge Guerricaechevarría, Álex de la Iglesia   \n",
       "\n",
       "                                      4985                           4986  \\\n",
       "Writer.1  Roy Chanslor, Arthur Conan Doyle  Hiroshi Takahashi, Shôgo Mutô   \n",
       "\n",
       "                                                       4987             4988  \n",
       "Writer.1  Ruben Alves, Luc-Olivier Veuve, Jean-André Yerlès  Kwak Kyung-taek  \n",
       "\n",
       "[1 rows x 4989 columns]"
      ]
     },
     "execution_count": 30,
     "metadata": {},
     "output_type": "execute_result"
    }
   ],
   "source": [
    "df.T[df.T.duplicated()]"
   ]
  },
  {
   "cell_type": "code",
   "execution_count": 32,
   "id": "b4603987",
   "metadata": {},
   "outputs": [],
   "source": [
    "df=df.loc[:,~df.T.duplicated()]"
   ]
  },
  {
   "cell_type": "code",
   "execution_count": 33,
   "id": "ff350e37",
   "metadata": {},
   "outputs": [
    {
     "data": {
      "text/html": [
       "<div>\n",
       "<style scoped>\n",
       "    .dataframe tbody tr th:only-of-type {\n",
       "        vertical-align: middle;\n",
       "    }\n",
       "\n",
       "    .dataframe tbody tr th {\n",
       "        vertical-align: top;\n",
       "    }\n",
       "\n",
       "    .dataframe thead th {\n",
       "        text-align: right;\n",
       "    }\n",
       "</style>\n",
       "<table border=\"1\" class=\"dataframe\">\n",
       "  <thead>\n",
       "    <tr style=\"text-align: right;\">\n",
       "      <th></th>\n",
       "      <th>0</th>\n",
       "      <th>1</th>\n",
       "      <th>2</th>\n",
       "      <th>3</th>\n",
       "      <th>4</th>\n",
       "      <th>5</th>\n",
       "      <th>6</th>\n",
       "      <th>7</th>\n",
       "      <th>8</th>\n",
       "      <th>9</th>\n",
       "      <th>...</th>\n",
       "      <th>4979</th>\n",
       "      <th>4980</th>\n",
       "      <th>4981</th>\n",
       "      <th>4982</th>\n",
       "      <th>4983</th>\n",
       "      <th>4984</th>\n",
       "      <th>4985</th>\n",
       "      <th>4986</th>\n",
       "      <th>4987</th>\n",
       "      <th>4988</th>\n",
       "    </tr>\n",
       "  </thead>\n",
       "  <tbody>\n",
       "  </tbody>\n",
       "</table>\n",
       "<p>0 rows × 4989 columns</p>\n",
       "</div>"
      ],
      "text/plain": [
       "Empty DataFrame\n",
       "Columns: [0, 1, 2, 3, 4, 5, 6, 7, 8, 9, 10, 11, 12, 13, 14, 15, 16, 17, 18, 19, 20, 21, 22, 23, 24, 25, 26, 27, 28, 29, 30, 31, 32, 33, 34, 35, 36, 37, 38, 39, 40, 41, 42, 43, 44, 45, 46, 47, 48, 49, 50, 51, 52, 53, 54, 55, 56, 57, 58, 59, 60, 61, 62, 63, 64, 65, 66, 67, 68, 69, 70, 71, 72, 73, 74, 75, 76, 77, 78, 79, 80, 81, 82, 83, 84, 85, 86, 87, 88, 89, 90, 91, 92, 93, 94, 95, 96, 97, 98, 99, ...]\n",
       "Index: []\n",
       "\n",
       "[0 rows x 4989 columns]"
      ]
     },
     "execution_count": 33,
     "metadata": {},
     "output_type": "execute_result"
    }
   ],
   "source": [
    "df.T[df.T.duplicated()]"
   ]
  },
  {
   "cell_type": "code",
   "execution_count": null,
   "id": "81627c12",
   "metadata": {},
   "outputs": [],
   "source": []
  },
  {
   "cell_type": "code",
   "execution_count": null,
   "id": "68938775",
   "metadata": {},
   "outputs": [],
   "source": []
  },
  {
   "cell_type": "code",
   "execution_count": null,
   "id": "3a991195",
   "metadata": {},
   "outputs": [],
   "source": []
  },
  {
   "cell_type": "code",
   "execution_count": null,
   "id": "03dfb1d0",
   "metadata": {},
   "outputs": [],
   "source": []
  },
  {
   "cell_type": "code",
   "execution_count": null,
   "id": "b86504e2",
   "metadata": {},
   "outputs": [],
   "source": []
  }
 ],
 "metadata": {
  "kernelspec": {
   "display_name": "dars_7",
   "language": "python",
   "name": "python3"
  },
  "language_info": {
   "codemirror_mode": {
    "name": "ipython",
    "version": 3
   },
   "file_extension": ".py",
   "mimetype": "text/x-python",
   "name": "python",
   "nbconvert_exporter": "python",
   "pygments_lexer": "ipython3",
   "version": "3.10.17"
  }
 },
 "nbformat": 4,
 "nbformat_minor": 5
}
