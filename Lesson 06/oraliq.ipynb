{
 "cells": [
  {
   "cell_type": "code",
   "execution_count": 26,
   "id": "179a3a61",
   "metadata": {},
   "outputs": [],
   "source": [
    "import pandas as pd\n",
    "df=pd.read_csv(filepath_or_buffer=\"electric_vehicles_spec_2025.csv.csv\")"
   ]
  },
  {
   "cell_type": "code",
   "execution_count": 14,
   "id": "a9d3840c",
   "metadata": {},
   "outputs": [
    {
     "name": "stdout",
     "output_type": "stream",
     "text": [
      "<class 'pandas.core.frame.DataFrame'>\n",
      "RangeIndex: 478 entries, 0 to 477\n",
      "Data columns (total 22 columns):\n",
      " #   Column                     Non-Null Count  Dtype  \n",
      "---  ------                     --------------  -----  \n",
      " 0   brand                      478 non-null    object \n",
      " 1   model                      477 non-null    object \n",
      " 2   top_speed_kmh              478 non-null    int64  \n",
      " 3   battery_capacity_kWh       478 non-null    float64\n",
      " 4   battery_type               478 non-null    object \n",
      " 5   number_of_cells            276 non-null    float64\n",
      " 6   torque_nm                  471 non-null    float64\n",
      " 7   efficiency_wh_per_km       478 non-null    int64  \n",
      " 8   range_km                   478 non-null    int64  \n",
      " 9   acceleration_0_100_s       478 non-null    float64\n",
      " 10  fast_charging_power_kw_dc  477 non-null    float64\n",
      " 11  fast_charge_port           477 non-null    object \n",
      " 12  towing_capacity_kg         452 non-null    float64\n",
      " 13  cargo_volume_l             477 non-null    object \n",
      " 14  seats                      478 non-null    int64  \n",
      " 15  drivetrain                 478 non-null    object \n",
      " 16  segment                    478 non-null    object \n",
      " 17  length_mm                  478 non-null    int64  \n",
      " 18  width_mm                   478 non-null    int64  \n",
      " 19  height_mm                  478 non-null    int64  \n",
      " 20  car_body_type              478 non-null    object \n",
      " 21  source_url                 478 non-null    object \n",
      "dtypes: float64(6), int64(7), object(9)\n",
      "memory usage: 82.3+ KB\n"
     ]
    }
   ],
   "source": [
    "df.info()"
   ]
  },
  {
   "cell_type": "code",
   "execution_count": null,
   "id": "09b3bf16",
   "metadata": {},
   "outputs": [
    {
     "name": "stderr",
     "output_type": "stream",
     "text": [
      "C:\\Users\\User\\AppData\\Local\\Temp\\ipykernel_24280\\1782222024.py:1: FutureWarning: A value is trying to be set on a copy of a DataFrame or Series through chained assignment using an inplace method.\n",
      "The behavior will change in pandas 3.0. This inplace method will never work because the intermediate object on which we are setting values always behaves as a copy.\n",
      "\n",
      "For example, when doing 'df[col].method(value, inplace=True)', try using 'df.method({col: value}, inplace=True)' or df[col] = df[col].method(value) instead, to perform the operation inplace on the original object.\n",
      "\n",
      "\n",
      "  df[\"number_of_cells\"].fillna(df[\"number_of_cells\"].mean(), inplace=True)\n"
     ]
    }
   ],
   "source": [
    "df[\"number_of_cells\"].fillna(df[\"number_of_cells\"].mean(), inplace=True) # mean bilan"
   ]
  },
  {
   "cell_type": "code",
   "execution_count": 16,
   "id": "5fa10ee1",
   "metadata": {},
   "outputs": [
    {
     "name": "stdout",
     "output_type": "stream",
     "text": [
      "<class 'pandas.core.frame.DataFrame'>\n",
      "RangeIndex: 478 entries, 0 to 477\n",
      "Data columns (total 22 columns):\n",
      " #   Column                     Non-Null Count  Dtype  \n",
      "---  ------                     --------------  -----  \n",
      " 0   brand                      478 non-null    object \n",
      " 1   model                      477 non-null    object \n",
      " 2   top_speed_kmh              478 non-null    int64  \n",
      " 3   battery_capacity_kWh       478 non-null    float64\n",
      " 4   battery_type               478 non-null    object \n",
      " 5   number_of_cells            478 non-null    float64\n",
      " 6   torque_nm                  471 non-null    float64\n",
      " 7   efficiency_wh_per_km       478 non-null    int64  \n",
      " 8   range_km                   478 non-null    int64  \n",
      " 9   acceleration_0_100_s       478 non-null    float64\n",
      " 10  fast_charging_power_kw_dc  477 non-null    float64\n",
      " 11  fast_charge_port           477 non-null    object \n",
      " 12  towing_capacity_kg         452 non-null    float64\n",
      " 13  cargo_volume_l             477 non-null    object \n",
      " 14  seats                      478 non-null    int64  \n",
      " 15  drivetrain                 478 non-null    object \n",
      " 16  segment                    478 non-null    object \n",
      " 17  length_mm                  478 non-null    int64  \n",
      " 18  width_mm                   478 non-null    int64  \n",
      " 19  height_mm                  478 non-null    int64  \n",
      " 20  car_body_type              478 non-null    object \n",
      " 21  source_url                 478 non-null    object \n",
      "dtypes: float64(6), int64(7), object(9)\n",
      "memory usage: 82.3+ KB\n"
     ]
    }
   ],
   "source": [
    "df.info()"
   ]
  },
  {
   "cell_type": "code",
   "execution_count": 25,
   "id": "53425e25",
   "metadata": {},
   "outputs": [
    {
     "data": {
      "text/plain": [
       "brand                         0\n",
       "model                         1\n",
       "top_speed_kmh                 0\n",
       "battery_capacity_kWh          0\n",
       "battery_type                  0\n",
       "torque_nm                     7\n",
       "efficiency_wh_per_km          0\n",
       "range_km                      0\n",
       "acceleration_0_100_s          0\n",
       "fast_charging_power_kw_dc     1\n",
       "fast_charge_port              1\n",
       "towing_capacity_kg           26\n",
       "cargo_volume_l                1\n",
       "seats                         0\n",
       "drivetrain                    0\n",
       "segment                       0\n",
       "length_mm                     0\n",
       "width_mm                      0\n",
       "height_mm                     0\n",
       "car_body_type                 0\n",
       "source_url                    0\n",
       "dtype: int64"
      ]
     },
     "execution_count": 25,
     "metadata": {},
     "output_type": "execute_result"
    }
   ],
   "source": [
    "df.isnull().sum()"
   ]
  },
  {
   "cell_type": "code",
   "execution_count": null,
   "id": "2bec79b5",
   "metadata": {},
   "outputs": [],
   "source": [
    "df[\"fast_charge_port\"].fillna(df[\"fast_charge_port\"].mode()[0], inplace=True) # mode bilan"
   ]
  },
  {
   "cell_type": "code",
   "execution_count": null,
   "id": "0a48497f",
   "metadata": {},
   "outputs": [
    {
     "name": "stderr",
     "output_type": "stream",
     "text": [
      "C:\\Users\\User\\AppData\\Local\\Temp\\ipykernel_24280\\3477129819.py:1: FutureWarning: A value is trying to be set on a copy of a DataFrame or Series through chained assignment using an inplace method.\n",
      "The behavior will change in pandas 3.0. This inplace method will never work because the intermediate object on which we are setting values always behaves as a copy.\n",
      "\n",
      "For example, when doing 'df[col].method(value, inplace=True)', try using 'df.method({col: value}, inplace=True)' or df[col] = df[col].method(value) instead, to perform the operation inplace on the original object.\n",
      "\n",
      "\n",
      "  df[\"torque_nm\"].fillna(df[\"torque_nm\"].median(), inplace=True)\n"
     ]
    }
   ],
   "source": [
    "df[\"torque_nm\"].fillna(df[\"torque_nm\"].median(), inplace=True) # median bilan"
   ]
  },
  {
   "cell_type": "code",
   "execution_count": null,
   "id": "844f472e",
   "metadata": {},
   "outputs": [],
   "source": [
    "df.drop(\"number_of_cells\", axis=1, inplace=True) # istalgan ustunni tashlash"
   ]
  },
  {
   "cell_type": "code",
   "execution_count": null,
   "id": "97736cbb",
   "metadata": {},
   "outputs": [],
   "source": [
    "df.dropna(inplace=True) # qator bilan to'ldirish yani bitta missing value bo'lsa ham qatorni tashlaydi"
   ]
  },
  {
   "cell_type": "code",
   "execution_count": 30,
   "id": "808bfbe2",
   "metadata": {},
   "outputs": [
    {
     "name": "stdout",
     "output_type": "stream",
     "text": [
      "<class 'pandas.core.frame.DataFrame'>\n",
      "Index: 264 entries, 0 to 470\n",
      "Data columns (total 22 columns):\n",
      " #   Column                     Non-Null Count  Dtype  \n",
      "---  ------                     --------------  -----  \n",
      " 0   brand                      264 non-null    object \n",
      " 1   model                      264 non-null    object \n",
      " 2   top_speed_kmh              264 non-null    int64  \n",
      " 3   battery_capacity_kWh       264 non-null    float64\n",
      " 4   battery_type               264 non-null    object \n",
      " 5   number_of_cells            264 non-null    float64\n",
      " 6   torque_nm                  264 non-null    float64\n",
      " 7   efficiency_wh_per_km       264 non-null    int64  \n",
      " 8   range_km                   264 non-null    int64  \n",
      " 9   acceleration_0_100_s       264 non-null    float64\n",
      " 10  fast_charging_power_kw_dc  264 non-null    float64\n",
      " 11  fast_charge_port           264 non-null    object \n",
      " 12  towing_capacity_kg         264 non-null    float64\n",
      " 13  cargo_volume_l             264 non-null    object \n",
      " 14  seats                      264 non-null    int64  \n",
      " 15  drivetrain                 264 non-null    object \n",
      " 16  segment                    264 non-null    object \n",
      " 17  length_mm                  264 non-null    int64  \n",
      " 18  width_mm                   264 non-null    int64  \n",
      " 19  height_mm                  264 non-null    int64  \n",
      " 20  car_body_type              264 non-null    object \n",
      " 21  source_url                 264 non-null    object \n",
      "dtypes: float64(6), int64(7), object(9)\n",
      "memory usage: 47.4+ KB\n"
     ]
    }
   ],
   "source": [
    "df.info()"
   ]
  }
 ],
 "metadata": {
  "kernelspec": {
   "display_name": "dars_7",
   "language": "python",
   "name": "python3"
  },
  "language_info": {
   "codemirror_mode": {
    "name": "ipython",
    "version": 3
   },
   "file_extension": ".py",
   "mimetype": "text/x-python",
   "name": "python",
   "nbconvert_exporter": "python",
   "pygments_lexer": "ipython3",
   "version": "3.10.17"
  }
 },
 "nbformat": 4,
 "nbformat_minor": 5
}
